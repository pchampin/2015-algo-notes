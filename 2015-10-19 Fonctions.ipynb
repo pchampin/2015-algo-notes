{
 "cells": [
  {
   "cell_type": "markdown",
   "metadata": {},
   "source": [
    "### Fonction : définition\n",
    "\n",
    "Une fonction est un algorithme auquel on donne un nom pour pouvoir le réutiliser.\n",
    "\n",
    "Pour transformer un algorithme en fonction, il faut :\n",
    "\n",
    "* le précéder d'une ligne ``def {nom_de_la_fonction}({paramètres d'entrée})``,\n",
    "* indenter tout l'algorithme,\n",
    "* ajouter à la fin une ligne (indentée) ``return {paramètres de sortie}``.\n",
    "\n",
    "La définition de la fonction n'exécute *pas* les instructions de la fonction.\n",
    "Les instructions sont effectuées lorsqu'on **appelle** la fonction par son nom,\n",
    "en lui passant (entre les parenthèses) les valeurs de ses paramètres d'entrées."
   ]
  },
  {
   "cell_type": "code",
   "execution_count": 2,
   "metadata": {
    "collapsed": false
   },
   "outputs": [
    {
     "name": "stdout",
     "output_type": "stream",
     "text": [
      "False\n",
      "True\n",
      "False\n"
     ]
    }
   ],
   "source": [
    "def contient_caractère(txt, char):\n",
    "    \"\"\"\n",
    "    :entrée txt: chaîne\n",
    "    :entrée char: chaîne\n",
    "    :sortie trouvé: booléen\n",
    "    :pré-cond: len(char) == 1\n",
    "    :post-cond: `trouvé` vaut True si et seulement si `txt` contient `char`\n",
    "    \"\"\"\n",
    "\n",
    "    trouvé = False\n",
    "    i = 0\n",
    "    while i < len(txt) and not trouvé:\n",
    "        trouvé = (char == txt[i])\n",
    "        i = i+1\n",
    "    \n",
    "    return trouvé\n",
    "\n",
    "print(contient_caractère(\"bonjour\", \"x\"))\n",
    "print(contient_caractère(\"bonjour\", \"o\"))\n",
    "print(contient_caractère(\"bonjour le monde\", \"R\"))"
   ]
  },
  {
   "cell_type": "markdown",
   "metadata": {},
   "source": [
    "Lorsqu'une fonction retourne plusieurs paramètres de sortie,\n",
    "on peut les récupérer avec une *affectation multiple*,\n",
    "comme dans l'exemple suivant (ligne 14)."
   ]
  },
  {
   "cell_type": "code",
   "execution_count": 5,
   "metadata": {
    "collapsed": false
   },
   "outputs": [
    {
     "name": "stdout",
     "output_type": "stream",
     "text": [
      "84\n",
      "126\n"
     ]
    }
   ],
   "source": [
    "# exemple avec plusieurs paramètres de sortie\n",
    "\n",
    "def double_et_triple(n):\n",
    "    \"\"\"\n",
    "    :entrée n: nombre\n",
    "    :sortie d: nombre\n",
    "    :sortie t: nombre\n",
    "    :post-cond: d est le double de n, t est le triple de n\n",
    "    \"\"\"\n",
    "    d = 2*n\n",
    "    t = 3*n\n",
    "    return d, t\n",
    "\n",
    "sortie1, sortie2 = double_et_triple(42)\n",
    "print(sortie1)\n",
    "print(sortie2)"
   ]
  },
  {
   "cell_type": "markdown",
   "metadata": {},
   "source": [
    "On peut maintenant ré-écrire, sous forme de fonction,\n",
    "le dernier algorithme de [la séance précédente](2015-10-16 Chaînes de caractères (2%29.ipynb)\n",
    "sous forme d'une fonction, appelant la fonction ``contient_caractères`` ci-dessus.\n",
    "\n",
    "L'algorithme est plus court, et plus lisible car on a décomposé le problème en sous-problèmes."
   ]
  },
  {
   "cell_type": "code",
   "execution_count": 18,
   "metadata": {
    "collapsed": false
   },
   "outputs": [
    {
     "name": "stdout",
     "output_type": "stream",
     "text": [
      "3\n",
      "6\n"
     ]
    }
   ],
   "source": [
    "def compte_occurences(txt, caractères):\n",
    "    \"\"\"\n",
    "    :entrée txt: chaîne\n",
    "    :entrée caractères: chaîne\n",
    "    :sortie nb: entier\n",
    "    :pré-cond: len(caractères) > 0\n",
    "    :post-cond: 'nb' est le nombre d'occurences dans 'txt' de caractères présents dans 'caractères'\n",
    "    \"\"\"\n",
    "    nb = 0\n",
    "    i = 0\n",
    "    while i < len(txt):\n",
    "        if contient_caractère(caractères, txt[i]):\n",
    "            nb = nb+1\n",
    "        i = i+1\n",
    "\n",
    "    return nb\n",
    "\n",
    "print(compte_occurences(\"bonjour\", \"aeiou\"))\n",
    "print(compte_occurences(\"bonjour le monde\", \"aeiouy\"))"
   ]
  },
  {
   "cell_type": "markdown",
   "metadata": {
    "collapsed": false
   },
   "source": [
    "Notons que les variables (entrées, sorties, intermédiaires) de chaque fonction lui sont propres. Même si elles ont le même nom que les variables d'une autre fonction (comme les variables ``txt`` ou ``i`` dans les fonctions ``contient_caractère`` et ``compte_occurences``), ce sont des variables différentes (cf. exécution dans [pythontutor](http://pythontutor.com/))."
   ]
  }
 ],
 "metadata": {
  "kernelspec": {
   "display_name": "Python 3",
   "language": "python",
   "name": "python3"
  },
  "language_info": {
   "codemirror_mode": {
    "name": "ipython",
    "version": 3
   },
   "file_extension": ".py",
   "mimetype": "text/x-python",
   "name": "python",
   "nbconvert_exporter": "python",
   "pygments_lexer": "ipython3",
   "version": "3.4.3"
  }
 },
 "nbformat": 4,
 "nbformat_minor": 0
}
