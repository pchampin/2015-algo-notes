{
 "cells": [
  {
   "cell_type": "code",
   "execution_count": 2,
   "metadata": {
    "collapsed": false
   },
   "outputs": [
    {
     "name": "stdout",
     "output_type": "stream",
     "text": [
      "4\n",
      "2\n"
     ]
    }
   ],
   "source": [
    "def min_tab(tab, istart):\n",
    "    \"\"\"\n",
    "    :entrée tab: tableau d'entiers\n",
    "    :entrée istart: entier\n",
    "    :pré-cond: len(tab) > 0, 0 ≤ istart < len(tab)\n",
    "    :sortie min: entier\n",
    "    :post-cond: min est la plus petite valeur de tab\n",
    "                entre istart et la fin\n",
    "    \"\"\"\n",
    "    if istart == len(tab)-1:\n",
    "        # le sous-tableau sur lequel je travaille\n",
    "        # n'a qu'une seule case, donc c'est le min\n",
    "        min = tab[istart]\n",
    "    else:\n",
    "        # le sous-tableau a plusieurs cases\n",
    "        min_reste = min_tab(tab, istart+1)\n",
    "        if tab[istart] < min_reste:\n",
    "            min = tab[istart]\n",
    "        else:\n",
    "            min = min_reste\n",
    "    return min\n",
    "\n",
    "print(min_tab([8,2,6,10,4], 2)) # affiche 4\n",
    "print(min_tab([8,2,6,10,4], 0)) # affiche 2"
   ]
  },
  {
   "cell_type": "code",
   "execution_count": 3,
   "metadata": {
    "collapsed": false
   },
   "outputs": [
    {
     "name": "stdout",
     "output_type": "stream",
     "text": [
      "4\n",
      "1\n"
     ]
    }
   ],
   "source": [
    "def imin_tab(tab, istart):\n",
    "    \"\"\"\n",
    "    :entrée tab: tableau de nombres\n",
    "    :entrée istart: entier\n",
    "    :pré-cond: len(tab) > 0, 0 ≤ istart < len(tab)\n",
    "    :sortie imin: entier\n",
    "    :post-cond: imin est l'indice de la plus petite\n",
    "                valeur de tab entre istart et la fin\n",
    "    \"\"\"\n",
    "    if istart == len(tab)-1:\n",
    "        # le sous-tableau sur lequel je travaille\n",
    "        # n'a qu'une seule case, donc c'est le min\n",
    "        imin = istart\n",
    "    else:\n",
    "        # le sous-tableau a plusieurs cases\n",
    "        imin_reste = imin_tab(tab, istart+1)\n",
    "        if tab[istart] < tab[imin_reste]:\n",
    "            imin = istart\n",
    "        else:\n",
    "            imin = imin_reste\n",
    "    return imin\n",
    "\n",
    "print(imin_tab([8,2,6,10,4], 2)) # affiche 4\n",
    "print(imin_tab([8,2,6,10,4], 0)) # affiche 1"
   ]
  },
  {
   "cell_type": "code",
   "execution_count": 4,
   "metadata": {
    "collapsed": true
   },
   "outputs": [],
   "source": [
    " # on peut ré-écrire min_tab en utilisant imin_tab\n",
    "def min_tab(tab, istart):\n",
    "    min = tab[imin_tab(tab, istart)]\n",
    "    return min"
   ]
  },
  {
   "cell_type": "code",
   "execution_count": 5,
   "metadata": {
    "collapsed": false
   },
   "outputs": [
    {
     "name": "stdout",
     "output_type": "stream",
     "text": [
      "[7, 8, 12, 24, 24, 30, 43]\n"
     ]
    }
   ],
   "source": [
    "def trie(tab):\n",
    "    \"\"\"\n",
    "    :entrée-sortie tab: tableau de nombres\n",
    "    :post-cond: tab_s contient les mêmes valeur que\n",
    "                tab_e, mais dans l'ordre croissant\n",
    "    \"\"\"\n",
    "    # tri par sélection\n",
    "    i = 0\n",
    "    while i < len(tab)-1:\n",
    "        imin = imin_tab(tab, i)\n",
    "        tmp = tab[imin]\n",
    "        tab[imin] = tab[i]\n",
    "        tab[i] = tmp\n",
    "        i = i+1   \n",
    "    \n",
    "a = [ 43, 8, 12, 7, 30, 24, 24 ]\n",
    "trie(a)\n",
    "#[ 43, 8, 12, 7, 30, 24, 24 ]\n",
    "#[ 7, 8, 12, 43, 30, 24, 24 ]\n",
    "#[ 7, 8, 12, 43, 30, 24, 24 ]\n",
    "#[ 7, 8, 12, 24, 30, 43, 24 ]\n",
    "#[ 7, 8, 12, 24, 24, 43, 30 ]\n",
    "#[ 7, 8, 12, 24, 24, 30, 43 ]\n",
    "print(a)"
   ]
  },
  {
   "cell_type": "code",
   "execution_count": 24,
   "metadata": {
    "collapsed": false
   },
   "outputs": [
    {
     "name": "stdout",
     "output_type": "stream",
     "text": [
      "[7, 8, 12, 24, 24, 30, 43]\n"
     ]
    }
   ],
   "source": [
    "# version récursive du tri par sélection\n",
    "# NB: la fonction 'trie' elle-même ne peut\n",
    "# pas être écrite de manière récursive ;\n",
    "# il faut introduire une fonction intermédiaire\n",
    "# qui *elle* sera récursive : trie_selection_rec\n",
    "\n",
    "def trie(tab):\n",
    "    \"\"\"\n",
    "    :entrée-sortie tab: tableau de nombres\n",
    "    :post-cond: tab_s contient les mêmes valeur que\n",
    "                tab_e, mais dans l'ordre croissant\n",
    "    \"\"\"\n",
    "    trie_selection_rec(tab, 0)\n",
    "    \n",
    "def trie_selection_rec(tab, istart):\n",
    "    \"\"\"\n",
    "    :entrée-sortie tab: tableau de nombres\n",
    "    :entrée istart: entier\n",
    "    :pré-cond: 0 ≤ istart < len(tab)\n",
    "    :post-cond: tab_s[istart:] contient les mêmes valeur que\n",
    "                tab_e[istart:] mais dans l'ordre croissant\n",
    "    \"\"\"\n",
    "    if istart == len(tab)-1:\n",
    "        pass # rien à faire, la dernière case est déjà triée par rapport à elle même\n",
    "    else:\n",
    "        imin = imin_tab(tab, istart)\n",
    "        tmp = tab[imin]\n",
    "        tab[imin] = tab[istart]\n",
    "        tab[istart] = tmp\n",
    "        trie_selection_rec(tab, istart+1)\n",
    "        \n",
    "a = [ 43, 8, 12, 7, 30, 24, 24 ]\n",
    "trie(a)\n",
    "print(a)"
   ]
  }
 ],
 "metadata": {
  "kernelspec": {
   "display_name": "Python 3",
   "language": "python",
   "name": "python3"
  },
  "language_info": {
   "codemirror_mode": {
    "name": "ipython",
    "version": 3
   },
   "file_extension": ".py",
   "mimetype": "text/x-python",
   "name": "python",
   "nbconvert_exporter": "python",
   "pygments_lexer": "ipython3",
   "version": "3.5.0"
  }
 },
 "nbformat": 4,
 "nbformat_minor": 0
}
