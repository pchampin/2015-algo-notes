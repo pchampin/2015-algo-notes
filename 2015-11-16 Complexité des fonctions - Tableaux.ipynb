{
 "cells": [
  {
   "cell_type": "markdown",
   "metadata": {},
   "source": [
    "Écrire l'algorithme suivant :"
   ]
  },
  {
   "cell_type": "code",
   "execution_count": 1,
   "metadata": {
    "collapsed": true
   },
   "outputs": [],
   "source": [
    "def decompresse(compressé):\n",
    "    \"\"\"\n",
    "    :entrée compressé: str\n",
    "    :pré-cond: len(compressé) est paire;\n",
    "               tous les caractères d'indice pair sont des chiffres\n",
    "               (entre 0 et 9)\n",
    "    :sortie décompressé: str\n",
    "    :post-cond: 'décompressé' est calculé en répétant chaque caractère\n",
    "                d'indice impair\n",
    "                par la valeur qui le précède\n",
    "                par exemple \"3a0b1c2a49\" -> \"aaacaa9999\"\n",
    "    \"\"\""
   ]
  },
  {
   "cell_type": "markdown",
   "metadata": {},
   "source": [
    "Pour cela, on se propose d'écrire d'abord la fonction suivante :"
   ]
  },
  {
   "cell_type": "code",
   "execution_count": 2,
   "metadata": {
    "collapsed": true
   },
   "outputs": [],
   "source": [
    "def decompresse_atome(atome):\n",
    "    \"\"\"\n",
    "    :entrée atome: str\n",
    "    :pré-cond: len(atome) == 2; atome[0] est un chiffre (entre 0 et 9)\n",
    "    :sortie série: str\n",
    "    :post-cond: 'série' est la répétition de atome[1]\n",
    "                autant de fois que la valeur de atome[0]\n",
    "    \"\"\""
   ]
  },
  {
   "cell_type": "markdown",
   "metadata": {},
   "source": [
    "NB: pour cet exercice, on s'interdira d'utiliser la multiplication de chaîne de Python. En revanche on utilisera la fonction ``int`` qui accepte en entrée une chaîne de caractère composée de chiffres et retourne la valeur entière correspondante."
   ]
  },
  {
   "cell_type": "code",
   "execution_count": 11,
   "metadata": {
    "collapsed": false
   },
   "outputs": [
    {
     "name": "stdout",
     "output_type": "stream",
     "text": [
      "xxxx\n"
     ]
    }
   ],
   "source": [
    "def decompresse_atome(atome):\n",
    "    série = \"\"\n",
    "    i = 0\n",
    "    répétitions = int(atome[0])\n",
    "    while i < répétitions:\n",
    "        série = série + atome[1]\n",
    "        i = i+1\n",
    "    return série\n",
    "\n",
    "print(decompresse_atome(\"4x\"))"
   ]
  },
  {
   "cell_type": "markdown",
   "metadata": {},
   "source": [
    "La complexité est 𝓞(int(atome[0]))."
   ]
  },
  {
   "cell_type": "code",
   "execution_count": 20,
   "metadata": {
    "collapsed": false
   },
   "outputs": [
    {
     "name": "stdout",
     "output_type": "stream",
     "text": [
      "aaacaa9999\n"
     ]
    }
   ],
   "source": [
    "def decompresse(compressé):\n",
    "    décompressé = \"\"\n",
    "    i = 0\n",
    "    while i < len(compressé)-1:\n",
    "        atome = compressé[i] + compressé[i+1]\n",
    "        décompressé = décompressé + decompresse_atome(atome)\n",
    "        i = i+2\n",
    "    return décompressé\n",
    "\n",
    "print(decompresse(\"3a0b1c2a49\"))"
   ]
  },
  {
   "cell_type": "markdown",
   "metadata": {},
   "source": [
    "La complexité est 𝓞(len(compressé) + Σ), ou Σ est la somme des chiffres d'indice pair dans ``compressé``."
   ]
  },
  {
   "cell_type": "markdown",
   "metadata": {},
   "source": [
    "### Tableaux\n",
    "\n",
    "Un tableau est une liste ordonnée de valeurs de même type."
   ]
  },
  {
   "cell_type": "code",
   "execution_count": 21,
   "metadata": {
    "collapsed": true
   },
   "outputs": [],
   "source": [
    "a = [2,4,6,0,2,8] # a est un tableau d'entier"
   ]
  },
  {
   "cell_type": "markdown",
   "metadata": {},
   "source": [
    "Les tableaux ont des points communs avec les listes :\n",
    "* ils ont une longueur\n",
    "* on peut accéder individuellement à leurs éléments avec la notation indicée (crochets)."
   ]
  },
  {
   "cell_type": "code",
   "execution_count": 23,
   "metadata": {
    "collapsed": false
   },
   "outputs": [
    {
     "name": "stdout",
     "output_type": "stream",
     "text": [
      "6\n",
      "4\n"
     ]
    }
   ],
   "source": [
    "print (len(a))\n",
    "print (a[1])"
   ]
  },
  {
   "cell_type": "markdown",
   "metadata": {},
   "source": [
    "De plus, les tableaux sont des objets **mutables** : on peut modifier le contenu d'un tableau en utilisant la notation indicée à gauche d'une affectation."
   ]
  },
  {
   "cell_type": "code",
   "execution_count": 26,
   "metadata": {
    "collapsed": false
   },
   "outputs": [
    {
     "name": "stdout",
     "output_type": "stream",
     "text": [
      "[2, 42, 6, 0, 2, 8]\n"
     ]
    }
   ],
   "source": [
    "a[1] = 42\n",
    "print(a)"
   ]
  },
  {
   "cell_type": "markdown",
   "metadata": {},
   "source": [
    "Notons que l'affectation ci-dessus ne change pas la valeur de la variable ``a``, mais modifie le *contenu* du tableau affecté à ``a``. C'est pourquoi cette modification peut impacter d'autres variables, si on leur a affecté ce même tableau."
   ]
  },
  {
   "cell_type": "code",
   "execution_count": 27,
   "metadata": {
    "collapsed": false
   },
   "outputs": [
    {
     "name": "stdout",
     "output_type": "stream",
     "text": [
      "[1, 42, 3, 2, 1]\n"
     ]
    }
   ],
   "source": [
    "a = [1,2,3,2,1]\n",
    "b = a      # le même tableau est affecté à a et b\n",
    "a[1] = 42  # on modifie ce tableau\n",
    "print(b)   # cette modification est également \"visible\" depuis b"
   ]
  }
 ],
 "metadata": {
  "kernelspec": {
   "display_name": "Python 3",
   "language": "python",
   "name": "python3"
  },
  "language_info": {
   "codemirror_mode": {
    "name": "ipython",
    "version": 3
   },
   "file_extension": ".py",
   "mimetype": "text/x-python",
   "name": "python",
   "nbconvert_exporter": "python",
   "pygments_lexer": "ipython3",
   "version": "3.4.3"
  }
 },
 "nbformat": 4,
 "nbformat_minor": 0
}
