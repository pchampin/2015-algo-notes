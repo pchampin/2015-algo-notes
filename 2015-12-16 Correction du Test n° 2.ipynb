{
 "cells": [
  {
   "cell_type": "code",
   "execution_count": 26,
   "metadata": {
    "collapsed": true
   },
   "outputs": [],
   "source": [
    "from numpy import empty"
   ]
  },
  {
   "cell_type": "markdown",
   "metadata": {},
   "source": [
    "# Test n°2 d'algo\n",
    "\n",
    "\n",
    "\n",
    "NB : les exercices peuvent être traites indépendamment, *y compris* lorsqu'on vous demande d'utiliser une fonction d'un exercice précédent. En effet, vous n'avez besoin que du contrat (qui vous est donné) pour pouvoir utiliser une fonction.\n",
    "\n",
    "Rappel : pour créer un tableau d'entiers non initialisé de taille N, on utilise ``empty(N, int)``."
   ]
  },
  {
   "cell_type": "markdown",
   "metadata": {},
   "source": [
    "## Exercice 1 : comptage (/2)\n",
    "\n",
    "Écrivez l'algorithme ci-dessous, qui compte le nombre d'occurrences d'un caractère ``car`` dans une chaîne ``txt``."
   ]
  },
  {
   "cell_type": "code",
   "execution_count": 27,
   "metadata": {
    "collapsed": false
   },
   "outputs": [
    {
     "name": "stdout",
     "output_type": "stream",
     "text": [
      "2\n",
      "3\n"
     ]
    }
   ],
   "source": [
    "def compte_caractère(txt, car):\n",
    "    \"\"\"\n",
    "    :entrée txt: str\n",
    "    :entrée car: str\n",
    "    :pré-cond: len(car) = 1\n",
    "    :sortie nbc: int\n",
    "    :post-cond: nbc est le nombre d'occurences de `car` dans `txt`\n",
    "    \"\"\"\n",
    "    nbc = 0\n",
    "    i = 0\n",
    "    while i < len(txt):\n",
    "        if txt[i] == car:\n",
    "            nbc = nbc+1\n",
    "        i = i+1\n",
    "    return nbc\n",
    "\n",
    "# version récursive\n",
    "\n",
    "def compte_caractère(txt, car):\n",
    "    if len(txt) == 0:\n",
    "        nbc = 0\n",
    "    else:\n",
    "        nbc = 0\n",
    "        if txt[0] == car:\n",
    "            nbc = nbc+1\n",
    "        nbc = nbc + compte_caractère(txt[1:], car)\n",
    "    return nbc\n",
    "\n",
    "# TESTONS\n",
    "print( compte_caractère(\"hello\", \"l\") )\n",
    "print( compte_caractère(\"un deux trois quatre\", \" \") )"
   ]
  },
  {
   "cell_type": "markdown",
   "metadata": {},
   "source": [
    "## Exercice 2 : repérons les mots (/4)\n",
    "\n",
    "On considère des chaînes de caractères représentant des phrases simples :\n",
    "* elle ne contient que des lettres et des espaces,\n",
    "* elle se commence et se termine par une lettre,\n",
    "* les mots sont séparés par exactement une espace.\n",
    "\n",
    "NB : par \"mot\", on entend ici n'importe quelle suite de lettres, pas forcément un mot du dictionnaire. Donc les conditions ci-dessus sont satisfaites par la chaînes ``\"Mignonne allons voir si la rose\"``, mais aussi par ``\"sqJlIQx zlkD iOsQx\"``.\n",
    "\n",
    "On souhaite, écrire une fonction qui nous retourne un tableau contenant l'indice de début de chaque mot. Par exemple, ``indices_mots(\"Mignonne allons voir si la rose\")`` retournera un tableau de longueur 6 (puisqu'il y a six mots) contenant les valeurs 0, 9, 16, 21, 24 et 27.\n"
   ]
  },
  {
   "cell_type": "code",
   "execution_count": 28,
   "metadata": {
    "collapsed": false
   },
   "outputs": [
    {
     "name": "stdout",
     "output_type": "stream",
     "text": [
      "[ 0  9 16 21 24 27]\n",
      "Mignonne allons voir si la rose\n",
      "allons voir si la rose\n",
      "voir si la rose\n",
      "si la rose\n",
      "la rose\n",
      "rose\n"
     ]
    }
   ],
   "source": [
    "def indices_mots(phrase):\n",
    "    \"\"\"\n",
    "    :entrée phrase: str\n",
    "    :pré-cond: phrase est une phrase simple comme définie dans l'énnoncé\n",
    "    :sortie indices: tableau d'entiers\n",
    "    :post-cond: `indices` a pour longueur le nombre de mots de `phrase`;\n",
    "                `indices` contient, dans l'ordre, les indices de début de chaque mot de `phrase`.\n",
    "    \"\"\"\n",
    "    nbmots = compte_caractère(phrase, \" \")+1\n",
    "    indices = empty(nbmots, int)\n",
    "\n",
    "    indices[0] = 0\n",
    "    i = 1 # indice sur phrase\n",
    "    j = 1 # indice sur indices\n",
    "    while j < nbmots:\n",
    "        if phrase[i] == \" \":\n",
    "            indices[j] = i+1\n",
    "            j = j+1\n",
    "        i = i+1\n",
    "    return indices\n",
    " \n",
    "# TESTONS\n",
    "vers = \"Mignonne allons voir si la rose\"\n",
    "print(indices_mots(vers))\n",
    "i\n",
    "for i in indices_mots(vers):\n",
    "    print(vers[i:])\n"
   ]
  },
  {
   "cell_type": "markdown",
   "metadata": {},
   "source": [
    "NB: on remarque que, pour connaître le nombre de mots, il est utile de connaître le nombre d'espaces dans la chaîne, et que pour cela on peut utiliser la fonction ``compte_caractère`` définie ci-dessus."
   ]
  },
  {
   "cell_type": "markdown",
   "metadata": {},
   "source": [
    "## Exercice 3 : un peu de lecture (/4)\n",
    "\n",
    "Considérez l'algorithme ci-dessous.\n",
    "\n",
    "1. Exécutez la trace de cet algorithme pour la chaîne ``\" C'est  simple! \"`` (avec une espace au début, deux espaces au milieu et une espace à la fin).\n",
    "2. Écrivez le contrat de cet algorithme, en donnant notamment sa post-condition : que calcule-t-il ?\n",
    "3. Expliquez le rôle de la variable intermédiaire ``w`` dans l'exécution de cet algorithme."
   ]
  },
  {
   "cell_type": "code",
   "execution_count": 50,
   "metadata": {
    "collapsed": false
   },
   "outputs": [
    {
     "name": "stdout",
     "output_type": "stream",
     "text": [
      "===  i     w  s  txt[i]\n",
      "===  0 False  0   \n",
      "===  1 False  0  C\n",
      "===  2  True  1  '\n",
      "===  3 False  1  e\n",
      "===  4  True  2  s\n",
      "===  5  True  2  t\n",
      "===  6  True  2   \n",
      "===  7 False  2  s\n",
      "===  8  True  3  i\n",
      "===  9  True  3  m\n",
      "=== 10  True  3  p\n",
      "=== 11  True  3  l\n",
      "=== 12  True  3  e\n",
      "=== 13  True  3  !\n",
      "=== 14 False  3   \n",
      "=== 15 False  3  X\n"
     ]
    },
    {
     "data": {
      "text/plain": [
       "3"
      ]
     },
     "execution_count": 50,
     "metadata": {},
     "output_type": "execute_result"
    }
   ],
   "source": [
    "def mystère(txt):\n",
    "    s = 0\n",
    "    w = False\n",
    "    i = 0\n",
    "    print(\"===  i     w  s  txt[i]\")\n",
    "    print(\"=== %2s %5s %2s  %s\" % (i, w, s, txt[i]))\n",
    "    while i < len(txt):\n",
    "        if compte_caractère(\" .,;:'!\", txt[i]) == 0:\n",
    "            if not w:\n",
    "                s = s+1\n",
    "            w = True\n",
    "        else:\n",
    "            w = False\n",
    "        i = i+1\n",
    "        print(\"=== %2s %5s %2s  %s\" % (i, w, s, (i<len(txt) and txt[i] or \"X\")))\n",
    "    return s\n",
    "\n",
    "# TESTONS\n",
    "mystère(\" C'est simple! \")"
   ]
  },
  {
   "cell_type": "markdown",
   "metadata": {},
   "source": [
    "## Exercice 4: le triangle de Pascal, petit à petit (/3)\n",
    "\n",
    "Le triangle de Pascal (illustré ci-dessous) est une figure composée de nombres entiers. Plus précisément :\n",
    "\n",
    "* Le premier étage (en partant du haut) contient un seul nombre.\n",
    "* Chaque étage suivant comporte un nombre de plus que le précédent.\n",
    "* Tous les étages commencent par 1 et se terminent par 1.\n",
    "* Toute valeur intermédiaire est calculée en additionnant deux valeurs de l'étage du dessus : la valeur située juste au dessus d'elle, et celle située immédiatement à gauche.\n",
    "\n",
    "```\n",
    "1\n",
    "1  1\n",
    "1  2  1\n",
    "1  3  3  1\n",
    "1  4  6  4  1\n",
    "1  5 10 10  5  1\n",
    "etc...\n",
    "```\n",
    "\n",
    "On vous demande ici d'écrire une fonction qui, étant donnée un étage du triangle de Pascal (représenté par un tableau d'entiers), produit un nouveau tableau correspondant à l'étage suivant.\n",
    "\n",
    "Par exemple, ``étage_suivant([1,3,3,1])`` doit retourner ``[1,4,6,4,1]``."
   ]
  },
  {
   "cell_type": "code",
   "execution_count": 30,
   "metadata": {
    "collapsed": false
   },
   "outputs": [
    {
     "name": "stdout",
     "output_type": "stream",
     "text": [
      "[1 1]\n",
      "[1 2 1]\n",
      "[1 3 3 1]\n",
      "[1 4 6 4 1]\n",
      "[ 1  5 10 10  5  1]\n",
      "[ 1  6 15 20 15  6  1]\n"
     ]
    }
   ],
   "source": [
    "def étage_suivant(étage):\n",
    "    \"\"\"\n",
    "    :entrée étage: tableau d'entiers\n",
    "    :pré-cond: `étage` représente un étage quelconque du triangle de Pascal\n",
    "    :sortie suivant: tableau d'entiers\n",
    "    :post-cond: `suivant` représente l'étage suitué en dessous de `étage` dans le triange de Pascal\n",
    "    \"\"\"\n",
    "    suivant = empty(len(étage)+1, int)\n",
    "    suivant[0] = 1\n",
    "    suivant[len(suivant)-1] = 1\n",
    "    \n",
    "    i = 1\n",
    "    while i < len(étage):\n",
    "        suivant[i] = étage[i] + étage[i-1]\n",
    "        i = i+1\n",
    "        \n",
    "    return suivant\n",
    "\n",
    "# TESTONS\n",
    "et = [1]\n",
    "while len(et) < 7:\n",
    "    et = étage_suivant(et)\n",
    "    print(et)"
   ]
  },
  {
   "cell_type": "markdown",
   "metadata": {},
   "source": [
    "## Exercice 5 : le triangle de Pascal par ascenseur (/3)\n",
    "\n",
    "On vous demande maintenant d'écrire de manière **récursive** la fonction suivante,\n",
    "qui calcule le n-ème étage du triangle de Pascal (décrit dans l'exercice précédent).\n",
    "Notez bien que, cette fois, la seule valeur d'entrée de l'algorithme est l'entier *n*.\n",
    "Par exemple, ``étage_pascal(5)`` doit retourner ``[1,4,6,4,1]``.\n",
    "\n",
    "Il vous sera nécessaire d'utiliser la fonction ``étage_suivant`` décrite dans l'exercice précédent."
   ]
  },
  {
   "cell_type": "code",
   "execution_count": 51,
   "metadata": {
    "collapsed": false
   },
   "outputs": [
    {
     "name": "stdout",
     "output_type": "stream",
     "text": [
      "[1]\n",
      "[1 1]\n",
      "[1 2 1]\n",
      "[1 3 3 1]\n",
      "[1 4 6 4 1]\n",
      "[ 1  5 10 10  5  1]\n",
      "[ 1  6 15 20 15  6  1]\n"
     ]
    }
   ],
   "source": [
    "def étage_pascal(n):\n",
    "    \"\"\"\n",
    "    :entrée n: int\n",
    "    :pré-cond: n ≥ 1\n",
    "    :sortie étage: tableau d'entiers\n",
    "    :post-cond: `étage` représente le n-ème étage du triangle de Pascal\n",
    "    \"\"\"\n",
    "    if n == 1:\n",
    "        étage = empty(1, int)\n",
    "        étage[0] = 1\n",
    "    else:\n",
    "        précédent = étage_pascal(n-1)\n",
    "        étage = étage_suivant(précédent)\n",
    "        \n",
    "    return étage\n",
    "\n",
    "# TESTONS\n",
    "i = 1\n",
    "while i < 8:\n",
    "    print(étage_pascal(i))\n",
    "    i = i+1"
   ]
  },
  {
   "cell_type": "markdown",
   "metadata": {},
   "source": [
    "## Exercice 6 : Pascal fait du sur-place (/3)\n",
    "\n",
    "On souhaite à nouveau calculer un étage du triangle de Pascal à partir de l'étage précédent,\n",
    "mais cette fois ci, au lieu de produire un nouveau tableau,\n",
    "on souhaite remplacer les valeurs du tableau passé en paramètre.\n",
    "\n",
    "NB : Pour que cela soit possible,\n",
    "il faut que le tableau passé en paramètre ait une longueur suffisante pour contenir l'étage suivant,\n",
    "ce que garantissent les pré-conditions du contrat ci-dessous."
   ]
  },
  {
   "cell_type": "code",
   "execution_count": 52,
   "metadata": {
    "collapsed": false
   },
   "outputs": [
    {
     "name": "stdout",
     "output_type": "stream",
     "text": [
      "[]\n",
      "[1]\n",
      "[1, 1]\n",
      "[1, 2, 1]\n",
      "[1, 3, 3, 1]\n",
      "[1, 4, 6, 4, 1]\n",
      "[1, 5, 10, 10, 5, 1]\n",
      "[1, 6, 15, 20, 15, 6, 1]\n"
     ]
    }
   ],
   "source": [
    "def étage_suivant_en_place(étage, n):\n",
    "    \"\"\"\n",
    "    :entrée/sortie étage: tableau d'entiers\n",
    "    :entrée n: int\n",
    "    :pré-cond: len(étage) ≥ n+1 ;\n",
    "               étageₑ contient l'étage n du triangle de Pascal\n",
    "    :post-cond: étageₛ contient l'étage n+1 du triangle de Pascal\n",
    "    \"\"\"\n",
    "    étage[n] = 1 # dernière case\n",
    "    i = n-1 # avant-dernière case\n",
    "    while i > 0:\n",
    "        étage[i] = étage[i] + étage[i-1]\n",
    "        i = i-1\n",
    "\n",
    "# TESTONS\n",
    "étage = [1, -1, -1, -1, -1, -1, -1, -1, -1, -1]\n",
    "i = 0\n",
    "while i < 8:\n",
    "    print(étage[:i])\n",
    "    étage_suivant_en_place(étage, i)\n",
    "    i = i+1"
   ]
  }
 ],
 "metadata": {
  "kernelspec": {
   "display_name": "Python 3",
   "language": "python",
   "name": "python3"
  },
  "language_info": {
   "codemirror_mode": {
    "name": "ipython",
    "version": 3
   },
   "file_extension": ".py",
   "mimetype": "text/x-python",
   "name": "python",
   "nbconvert_exporter": "python",
   "pygments_lexer": "ipython3",
   "version": "3.5.0"
  }
 },
 "nbformat": 4,
 "nbformat_minor": 0
}
