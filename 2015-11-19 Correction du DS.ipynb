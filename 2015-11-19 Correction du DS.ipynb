{
 "cells": [
  {
   "cell_type": "markdown",
   "metadata": {},
   "source": [
    "# Échauffement\t(/1)\n",
    "\n",
    "* Qu'est-ce que le modulo ? Quel opérateur utilise-t-on pour calculer un modulo ?\n",
    "* Quel est le problème dans la série d'instructions suivante ? \n",
    "\n",
    "```python\n",
    "a = 42\n",
    "b = \"64\"\n",
    "print(a+b)\n",
    "```"
   ]
  },
  {
   "cell_type": "markdown",
   "metadata": {},
   "source": [
    "# Valeur absolue \t(/2)\n",
    "Écrire la spécification formelle et l'algorithme absolue permettant de calculer la valeur absolue d'un nombre entier passé en paramètre. Par exemple, absolue(3) doit retourner 3 et absolue(-3) doit retourner 3."
   ]
  },
  {
   "cell_type": "code",
   "execution_count": 11,
   "metadata": {
    "collapsed": false
   },
   "outputs": [
    {
     "name": "stdout",
     "output_type": "stream",
     "text": [
      "7\n"
     ]
    }
   ],
   "source": [
    "n = int(input())\n",
    "\"\"\"\n",
    ":entrée n: int\n",
    ":sortie abs: int\n",
    ":pré-cond: -\n",
    ":post-cond: abs est la valeur absolue de n\n",
    "\"\"\"\n",
    "if n >= 0:\n",
    "    abs = n\n",
    "else:\n",
    "    abs = -n\n"
   ]
  },
  {
   "cell_type": "markdown",
   "metadata": {},
   "source": [
    "# Dessiner des étoiles \t(/3)\n",
    "Écrire la spécification formelle et l'algorithme triangleInverse qui affiche à l'écran un triangle de caractères comme dans les exemples ci-dessous.\n",
    "```\n",
    " >>> triangleInverse(5, '*')\n",
    " *****\n",
    " ****\n",
    " ***\n",
    " **\n",
    " *\n",
    " >>> triangleInverse(3, '!')\n",
    " !!!\n",
    " !!\n",
    " !\n",
    " ```"
   ]
  },
  {
   "cell_type": "code",
   "execution_count": 13,
   "metadata": {
    "collapsed": false
   },
   "outputs": [
    {
     "name": "stdout",
     "output_type": "stream",
     "text": [
      "!!!\n",
      "!!\n",
      "!\n"
     ]
    }
   ],
   "source": [
    "def triangleInverse(taille, caractère):\n",
    "    \"\"\"\n",
    "    :entrée taille: int\n",
    "    :entrée caractère: str\n",
    "    :pré-cond: taille ≥ 0 ; len(caractère)=1\n",
    "    :post-cond: affiche le triangle inversé conformément au sujet\n",
    "    \"\"\"\n",
    "    i=taille\n",
    "    while i > 0:\n",
    "        print(i*caractère)\n",
    "        i=i-1\n",
    "        \n",
    "triangleInverse(3, '!')"
   ]
  },
  {
   "cell_type": "markdown",
   "metadata": {},
   "source": [
    "# Mystère (et boule de gomme !) \t(/2)\n",
    "Étudiez l'algorithme suivant, puis supposez que l'on exécute algoMystere(2,3). Recopiez le tableau fourni sur votre copie et complétez-le. Ce tableau présente la trace de l'exécution de l'algorithme. Rappel : la trace de l'exécution d'un algorithme indique les états successifs des variables utilisées dans l'algorithme. "
   ]
  },
  {
   "cell_type": "code",
   "execution_count": 4,
   "metadata": {
    "collapsed": true
   },
   "outputs": [],
   "source": [
    "def algoMystere(a, b):\n",
    "    a = a * 2\n",
    "    b = b + 1\n",
    "    max = (a*b) // 2\n",
    "    i = 0\n",
    "    while i < max:\n",
    "        c = a + b\n",
    "        a = a - 1\n",
    "        b = b + a\n",
    "        i = i + 1"
   ]
  },
  {
   "cell_type": "markdown",
   "metadata": {},
   "source": [
    "#Dessinons (mais pas un mouton) ! \t(/1)\n",
    "Supposons que l'on dispose d'un nouveau langage algorithmique simplifié qui permette de communiquer des instructions à un robot dessinateur. Ce langage contient les instructions suivantes : avancer(p) qui permet d'avancer de p pas (unité de mesure arbitraire), tourner(d) qui permet de tourner de d degrés dans le sens horaire, baisser() qui indique au robot de baisser le crayon (pour écrire) et lever() qui indique au robot de lever le crayon et donc d'arrêter d'écrire. La position initiale du crayon est levée. Mettez vous à la place du robot et dessinez le résultat de l'algorithme pour M = 3 et N = 2.\n",
    "\n",
    "```\n",
    "répéter N fois:\n",
    "        répéter M fois:\n",
    "             baisser()\n",
    "             répéter 4 fois:\n",
    "                  avancer(10)\n",
    "                  tourner(90)\n",
    "             lever()\n",
    "             avancer(20)\n",
    "        tourner(90)\n",
    "        avancer(20)\n",
    "        tourner(90) \n",
    "        avancer(20)\n",
    "```"
   ]
  },
  {
   "cell_type": "markdown",
   "metadata": {},
   "source": [
    "#Tables de multiplications \t(/4)\n",
    "\n",
    "1- Écrire un algorithme (avec sa spécification) qui permet d'afficher la table de multiplication (de 1 à 10) d'un entier passé en paramètre.\n",
    "\n",
    "Exemple : pour la valeur 3, cet algorithme affichera :\n",
    "```\n",
    "1x3=3  2x3=6  3x3=9  4x3=12  5x3=15  6x3=18  7x3=21  8x3=24  9x3=27  10x3=30\n",
    "```"
   ]
  },
  {
   "cell_type": "code",
   "execution_count": 30,
   "metadata": {
    "collapsed": false
   },
   "outputs": [
    {
     "name": "stdout",
     "output_type": "stream",
     "text": [
      "1x7=7 2x7=14 3x7=21 4x7=28 5x7=35 6x7=42 7x7=49 8x7=56 9x7=63 10x7=70 \n"
     ]
    }
   ],
   "source": [
    "def tableMultiplication(n):\n",
    "    \"\"\"\n",
    "    :entrée n: entier\n",
    "    :pré-cond: -\n",
    "    :sortie table: str\n",
    "    :post-cond: affiche 'table', qui contient la table de multiplication de n de 1 à 10\n",
    "    \"\"\"\n",
    "    table = \"\"\n",
    "    i = 1\n",
    "    while i <= 10:\n",
    "        table = table + str(i) + \"x\"  + str(n) + \"=\" + str(i*n) + \" \"\n",
    "        i = i+1\n",
    "    print(table)\n",
    "        \n",
    "tableMultiplication(7)"
   ]
  },
  {
   "cell_type": "markdown",
   "metadata": {},
   "source": [
    "2- Écrire un algorithme (avec sa spécification) qui permet d'afficher toutes les tables de multiplication des entiers entre 0 et n."
   ]
  },
  {
   "cell_type": "code",
   "execution_count": 36,
   "metadata": {
    "collapsed": false
   },
   "outputs": [
    {
     "name": "stdout",
     "output_type": "stream",
     "text": [
      "1x0=0 2x0=0 3x0=0 4x0=0 5x0=0 6x0=0 7x0=0 8x0=0 9x0=0 10x0=0 \n",
      "1x1=1 2x1=2 3x1=3 4x1=4 5x1=5 6x1=6 7x1=7 8x1=8 9x1=9 10x1=10 \n",
      "1x2=2 2x2=4 3x2=6 4x2=8 5x2=10 6x2=12 7x2=14 8x2=16 9x2=18 10x2=20 \n",
      "1x3=3 2x3=6 3x3=9 4x3=12 5x3=15 6x3=18 7x3=21 8x3=24 9x3=27 10x3=30 \n",
      "1x4=4 2x4=8 3x4=12 4x4=16 5x4=20 6x4=24 7x4=28 8x4=32 9x4=36 10x4=40 \n",
      "1x5=5 2x5=10 3x5=15 4x5=20 5x5=25 6x5=30 7x5=35 8x5=40 9x5=45 10x5=50 \n",
      "1x6=6 2x6=12 3x6=18 4x6=24 5x6=30 6x6=36 7x6=42 8x6=48 9x6=54 10x6=60 \n",
      "1x7=7 2x7=14 3x7=21 4x7=28 5x7=35 6x7=42 7x7=49 8x7=56 9x7=63 10x7=70 \n",
      "1x8=8 2x8=16 3x8=24 4x8=32 5x8=40 6x8=48 7x8=56 8x8=64 9x8=72 10x8=80 \n",
      "1x9=9 2x9=18 3x9=27 4x9=36 5x9=45 6x9=54 7x9=63 8x9=72 9x9=81 10x9=90 \n"
     ]
    }
   ],
   "source": [
    "def tablesMultiplication(n):\n",
    "    \"\"\"\n",
    "    :entrée n: entier\n",
    "    :pré-cond: n ≥ 0\n",
    "    :post-cond: affiche les tables de multiplication des entiers entre 0 et n\n",
    "    \"\"\"\n",
    "    j = 0\n",
    "    while j <= n:\n",
    "        tableMultiplication(j)\n",
    "        j = j+1\n",
    "        \n",
    "tablesMultiplication(9)"
   ]
  },
  {
   "cell_type": "markdown",
   "metadata": {},
   "source": [
    "#Qui est là ? \t(/6)\n",
    "1- Étant donné la consigne suivante : \"Écrire un algorithme qui permet de vérifier qu'un caractère est bien présent dans une chaîne\", deux personnes proposent les spécifications formelles suivantes. Quels critiques pouvez-vous faire sur ces spécifications ?"
   ]
  },
  {
   "cell_type": "code",
   "execution_count": 5,
   "metadata": {
    "collapsed": true
   },
   "outputs": [],
   "source": [
    "def algo(c, s):\n",
    "    '''\n",
    "    :entree c: chaîne dans laquelle on cherche s\n",
    "    :sortie: aucune\n",
    "    :post-cond: on affiche le résultat à l'écran\n",
    "    '''\n",
    "\n",
    "def estPresent(chaine, car):\n",
    "    '''\n",
    "    :entree chaine: une chaîne non vide\n",
    "    :entree car: un caractère\n",
    "    :sortie present: un booleen qui dit si le caractère est present dans la chaîne ou non. \n",
    "    '''"
   ]
  },
  {
   "cell_type": "markdown",
   "metadata": {},
   "source": [
    "2- Finalement, voici l'algorithme retenu. Écrivez la spécification formelle correspondante."
   ]
  },
  {
   "cell_type": "code",
   "execution_count": 1,
   "metadata": {
    "collapsed": true
   },
   "outputs": [],
   "source": [
    "def indicePresence(chaine, caractere):\n",
    "    \"\"\"\n",
    "    :entrée chaine: str\n",
    "    :entrée caractere: str\n",
    "    :pré-cond: len(caractere) == 1\n",
    "    :sortie indice: int\n",
    "    :post-cond: 'indice' est le premier indice de 'caractere' dans 'chaine',\n",
    "                ou -1 si 'chaine' ne contient pas 'caractere'\n",
    "    \"\"\"\n",
    "    indice = -1\n",
    "    i = 0\n",
    "    while i < len(chaine) and indice == -1:\n",
    "        if chaine[i] == caractere:\n",
    "            indice = i \n",
    "        i = i + 1\n",
    "    return indice"
   ]
  },
  {
   "cell_type": "markdown",
   "metadata": {},
   "source": [
    "3- Écrivez maintenant les spécifications et l'algorithme estPresentDansChaine qui accepte deux chaînes ch1 et ch2, et pour chaque caractère de ch1, affiche \"présent\" à l'écran si ce caractère est présent dans ch2. Par exemple, estPresentDansChaine(\"velo\", \"hello\") affichera trois fois \"présent\" car le e, le l et le o de velo  sont tous présents au moins une fois dans hello."
   ]
  },
  {
   "cell_type": "code",
   "execution_count": 2,
   "metadata": {
    "collapsed": false
   },
   "outputs": [
    {
     "name": "stdout",
     "output_type": "stream",
     "text": [
      "présent\n",
      "présent\n",
      "présent\n"
     ]
    }
   ],
   "source": [
    "def estPresentDansChaine(ch1, ch2):\n",
    "    \"\"\"\n",
    "    :entrée ch1: str\n",
    "    :entrée ch2: str\n",
    "    :pré-cond: -\n",
    "    :sortie: aucune (sortie écran uniquement)\n",
    "    :post-cond: affiche \"présent\" pour chaque lettre de ch1 présente dans ch2\n",
    "    \"\"\"\n",
    "    i = 0\n",
    "    while i<len(ch1):\n",
    "        if indicePresence(ch2, ch1[i]) != -1:\n",
    "            print(\"présent\")\n",
    "        i = i+1\n",
    "        \n",
    "estPresentDansChaine(\"velo\", \"hello\")"
   ]
  },
  {
   "cell_type": "markdown",
   "metadata": {},
   "source": [
    "4- Écrivez maintenant un algorithme (avec sa spécification) qui prend en paramètres deux chaînes et qui en fabrique une troisième en effectuant les opérations suivantes. Pour chaque caractère de la première chaîne, on regarde s'il est aussi présent dans la seconde chaîne. Si c'est le cas, on ajoute à la chaîne en cours de création le caractère suivant le caractère rencontré dans ch2. Sinon, on ajoute à la chaîne le caractère en cours de consultation dans ch1. \n",
    "\n",
    "Exemple : modifierChaine(\"velo\", \"eflm\") retournera \"vfmo\" car :\n",
    "v n'apparaît pas dans \"eflm\", donc on le recopie tel quel.\n",
    "e apparaît dans \"eflm\", donc on le remplace par son successeur dans eflm, c'est-à-dire f.\n",
    "l apparaît dans \"eflm\", donc on le remplace par son successeur dans eflm, c'est-à-dire m.\n",
    "o n'apparaît pas dans \"eflm\", donc on le recopie tel quel."
   ]
  },
  {
   "cell_type": "code",
   "execution_count": 4,
   "metadata": {
    "collapsed": false
   },
   "outputs": [
    {
     "name": "stdout",
     "output_type": "stream",
     "text": [
      "vfmo\n"
     ]
    }
   ],
   "source": [
    "def modifierChaine(ch1, ch2):\n",
    "    \"\"\"\n",
    "    :entrée ch1: str\n",
    "    :entrée ch2: str\n",
    "    :pré-cond: -\n",
    "    :sortie ch3: str\n",
    "    :post-cond: ch3 est la transformation de ch1 en appliquant la méthode ci-dessus\n",
    "    \"\"\"\n",
    "    ch3 = \"\"\n",
    "    i = 0\n",
    "    while i<len(ch1):\n",
    "        ic = indicePresence(ch2, ch1[i])\n",
    "        if ic == -1:\n",
    "            ch3 = ch3 + ch1[i]\n",
    "        else:\n",
    "            ch3 = ch3 + ch2[ic+1]\n",
    "        i = i+1\n",
    "    return ch3\n",
    "\n",
    "print(modifierChaine(\"velo\", \"eflm\"))"
   ]
  },
  {
   "cell_type": "markdown",
   "metadata": {},
   "source": [
    "5- La règle proposée pour construire la chaîne dans la question 4 de cet exercice pose un problème dans un cas. Lequel ? \n",
    "\n",
    "Si ch1 contient le dernier caractère de ch2, il y aura une erreur (pas de caractère suivant dans ch2).\n",
    "\n",
    "6- À votre avis, à quoi peut bien servir l'algorithme écrit à la question 4 de cet exercice.\n",
    "\n",
    "Cette fonction peut être utilisée pour crypter une chaîne de caractères.\n",
    "En utilisant la chaîne \"inverse\", on peut décrypter la chaîne."
   ]
  }
 ],
 "metadata": {
  "kernelspec": {
   "display_name": "Python 3",
   "language": "python",
   "name": "python3"
  },
  "language_info": {
   "codemirror_mode": {
    "name": "ipython",
    "version": 3
   },
   "file_extension": ".py",
   "mimetype": "text/x-python",
   "name": "python",
   "nbconvert_exporter": "python",
   "pygments_lexer": "ipython3",
   "version": "3.5.0"
  }
 },
 "nbformat": 4,
 "nbformat_minor": 0
}
