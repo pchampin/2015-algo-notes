{
 "cells": [
  {
   "cell_type": "markdown",
   "metadata": {},
   "source": [
    "### Chaînes de caractères\n",
    "\n",
    "Une chaîne de caractères est écrite entre guillemets (simples ou doubles)"
   ]
  },
  {
   "cell_type": "code",
   "execution_count": 45,
   "metadata": {
    "collapsed": false
   },
   "outputs": [],
   "source": [
    "txt = \"Hello world!\"\n",
    "txt = 'Hello world!'"
   ]
  },
  {
   "cell_type": "markdown",
   "metadata": {},
   "source": [
    "#### Comparaison\n",
    "Les chaînes peuvent être comparées avec les opérateurs usuels: `==`, `!=`, `<`, `<=`, `>`, `>=`."
   ]
  },
  {
   "cell_type": "code",
   "execution_count": 47,
   "metadata": {
    "collapsed": false
   },
   "outputs": [
    {
     "data": {
      "text/plain": [
       "True"
      ]
     },
     "execution_count": 47,
     "metadata": {},
     "output_type": "execute_result"
    }
   ],
   "source": [
    "\"A\" < txt "
   ]
  },
  {
   "cell_type": "markdown",
   "metadata": {},
   "source": [
    "**Attention** : l'ordre des chaînes ressemble à l'ordre alphabétique, mais comporte des différences. Par exemple, les majuscules sont avant les minuscules ; les caractères accentués sont \"en dehors\" de l'alphabet."
   ]
  },
  {
   "cell_type": "code",
   "execution_count": 51,
   "metadata": {
    "collapsed": false
   },
   "outputs": [
    {
     "data": {
      "text/plain": [
       "True"
      ]
     },
     "execution_count": 51,
     "metadata": {},
     "output_type": "execute_result"
    }
   ],
   "source": [
    "\"Z\" < \"a\"  and  \"z\" < \"é\""
   ]
  },
  {
   "cell_type": "markdown",
   "metadata": {},
   "source": [
    "#### Concaténation\n",
    "\n",
    "L'opérateur `+` permet concaténer deux (ou plus) chaînes de caractères."
   ]
  },
  {
   "cell_type": "code",
   "execution_count": 53,
   "metadata": {
    "collapsed": true
   },
   "outputs": [],
   "source": [
    "txt = \"Hello\" + \" \" + \"world!\""
   ]
  },
  {
   "cell_type": "markdown",
   "metadata": {},
   "source": [
    "#### Longueur\n",
    "\n",
    "La fonction ``len`` permet d'obtenir le nombre de caractères (longueur) d'une chaîne."
   ]
  },
  {
   "cell_type": "code",
   "execution_count": 55,
   "metadata": {
    "collapsed": false
   },
   "outputs": [
    {
     "data": {
      "text/plain": [
       "12"
      ]
     },
     "execution_count": 55,
     "metadata": {},
     "output_type": "execute_result"
    }
   ],
   "source": [
    "len(txt)"
   ]
  },
  {
   "cell_type": "markdown",
   "metadata": {},
   "source": [
    "#### Extraction d'un caractère\n",
    "\n",
    "La notion \"indice\" (un entier entre crochets) permet d'obtenir un caractère particulier d'une chaîne.\n",
    "\n",
    "* le premier caractère a l'indice 0\n",
    "* l'indice doit être strictement inférieur à la longueur de la chaîne\n",
    "* la valeur retournée est une *chaîne* de longueur 1 (pas de type \"caractère\" séparé)"
   ]
  },
  {
   "cell_type": "code",
   "execution_count": 58,
   "metadata": {
    "collapsed": false
   },
   "outputs": [
    {
     "data": {
      "text/plain": [
       "'l'"
      ]
     },
     "execution_count": 58,
     "metadata": {},
     "output_type": "execute_result"
    }
   ],
   "source": [
    "txt[2]"
   ]
  },
  {
   "cell_type": "markdown",
   "metadata": {},
   "source": [
    "#### Les chaînes sont des objets immutables\n",
    "\n",
    "Contrairement au C, on ne modifie jamais l'intérieur d'une chaîne.\n",
    "On la remplace par une *autre* chaîne, exactement comme dans le cas des nombres ."
   ]
  },
  {
   "cell_type": "code",
   "execution_count": 15,
   "metadata": {
    "collapsed": false
   },
   "outputs": [
    {
     "name": "stdout",
     "output_type": "stream",
     "text": [
      "42\n"
     ]
    }
   ],
   "source": [
    "i = 42\n",
    "j = i\n",
    "j = j + 1\n",
    "print(i) # i n'a pas été modifié"
   ]
  },
  {
   "cell_type": "code",
   "execution_count": 63,
   "metadata": {
    "collapsed": false
   },
   "outputs": [
    {
     "name": "stdout",
     "output_type": "stream",
     "text": [
      "hello\n"
     ]
    }
   ],
   "source": [
    "t = \"hello\"\n",
    "u = t\n",
    "u = u + \" world\"\n",
    "print(t) # t n'a pas été modifié"
   ]
  },
  {
   "cell_type": "markdown",
   "metadata": {},
   "source": [
    "### Exercices"
   ]
  },
  {
   "cell_type": "code",
   "execution_count": 62,
   "metadata": {
    "collapsed": true
   },
   "outputs": [],
   "source": [
    "\"\"\"\n",
    ":entrée txt: chaîne\n",
    ":sortie x: entier\n",
    ":post-cond: x est le nombre d'occurence de 'z' dans 'txt'\n",
    "            (le nombre d'apparition du caractère 'z' dans 'txt')\n",
    "\"\"\"\n",
    "i = 0\n",
    "x = 0\n",
    "while i < len(txt):\n",
    "    if txt[i] == 'z':\n",
    "        x = x+1\n",
    "    i = i+1\n",
    "    \n",
    "# complexité : 𝓞(len(txt))"
   ]
  },
  {
   "cell_type": "code",
   "execution_count": 64,
   "metadata": {
    "collapsed": true
   },
   "outputs": [],
   "source": [
    "\"\"\"\n",
    ":entrée txt: chaîne\n",
    ":sortie nv: entier\n",
    ":post-cond: nv est le nombre de voyelles (minuscules, non accentuées) dans txt\n",
    "\"\"\"\n",
    "i = 0\n",
    "nv = 0\n",
    "while i < len(txt):\n",
    "    if ( txt[i] == 'a' or txt[i] == 'e' or txt[i] == 'i' or\n",
    "         txt[i] == 'o' or txt[i] == 'u' or txt[i] == 'y' ):\n",
    "        nv = nv+1\n",
    "    i = i+1\n",
    "    \n",
    "# complexité : 𝓞(len(txt))"
   ]
  }
 ],
 "metadata": {
  "kernelspec": {
   "display_name": "Python 3",
   "language": "python",
   "name": "python3"
  },
  "language_info": {
   "codemirror_mode": {
    "name": "ipython",
    "version": 3
   },
   "file_extension": ".py",
   "mimetype": "text/x-python",
   "name": "python",
   "nbconvert_exporter": "python",
   "pygments_lexer": "ipython3",
   "version": "3.4.3"
  }
 },
 "nbformat": 4,
 "nbformat_minor": 0
}
