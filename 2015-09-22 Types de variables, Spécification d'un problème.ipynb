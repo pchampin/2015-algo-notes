{
 "cells": [
  {
   "cell_type": "markdown",
   "metadata": {},
   "source": [
    "### Types de variables\n",
    "\n",
    "* paramètres d'entrée\n",
    "\n",
    "  - décrivent le problème à résoudre\n",
    "  - fournies au moment de l'exécution\n",
    "  \n",
    "* paramètres de sortie\n",
    "\n",
    "  - décrivent la solution au problème\n",
    "  - doivent être calculés par le programme\n",
    "  \n",
    "* variables intermédiaires\n",
    "\n",
    "  - utilisées au cours de la résolution du problème\n",
    "  - dépendent de la méthode choisie, pas du problème lui même\n",
    "  \n",
    "### Spécification d'un problème\n",
    "\n",
    "Description la plus précise possible, « cahier des charges », *contrat*.\n",
    "\n",
    "* paramètres d'entrées\n",
    "* pré-conditions\n",
    "  - indiquent des contraintes sur les paramètres d'entrée\n",
    "  - précisent leur signification\n",
    "* paramètres de sortie\n",
    "* post-conditions\n",
    "  - indique les relations entre les entrées et les sorties\n",
    "  - précisent la signification des paramètres de sortie\n",
    "  \n",
    "Ci-dessous, on donne en exemple la spécification d'un problème que nous avons résolu dans les séances précédentes."
   ]
  },
  {
   "cell_type": "code",
   "execution_count": 59,
   "metadata": {
    "collapsed": true
   },
   "outputs": [
    {
     "data": {
      "text/plain": [
       "'\\n:entrée h: entier\\n:entrée m: entier\\n:entrée s: entier\\n:sortie durée: entier\\n:pré-cond: h ≥ 0, 0 ≤ m < 60, 0 ≤ s < 60\\n           h:m:s représente une durée en heures,minutes,sec\\n:post-cond: durée est la durée totale en secondes\\n            correspondant à h:m:s\\n'"
      ]
     },
     "execution_count": 59,
     "metadata": {},
     "output_type": "execute_result"
    }
   ],
   "source": [
    "\"\"\"\n",
    ":entrée h: entier\n",
    ":entrée m: entier\n",
    ":entrée s: entier\n",
    ":pré-cond: h ≥ 0, 0 ≤ m < 60, 0 ≤ s < 60\n",
    "           h:m:s représente une durée en heures,minutes,sec\n",
    ":sortie durée: entier\n",
    ":post-cond: durée est la durée totale en secondes\n",
    "            correspondant à h:m:s\n",
    "\"\"\""
   ]
  },
  {
   "cell_type": "markdown",
   "metadata": {},
   "source": [
    "#### Problème sous-spécifié\n",
    "\n",
    "Parfois, la spécification est rédigée de telle sorte que plusieurs solutions sont possibles pour le même problème.\n",
    "\n",
    "On dit que le problème est *sous-spécifié*. Cette flexibilité laisse une marge de manœuvre au programmeur, qui peut en tirer partie pour améliorer certaines caractéristiques de l'algorithme (performance, lisibilité).\n",
    "\n",
    "Le problème ci-dessous est sous-spécifié : seul le *signe* du paramètre de sortie `diff` nous intéresse, pour porter l'information \"avant\", \"après\" ou \"en même temps\"."
   ]
  },
  {
   "cell_type": "code",
   "execution_count": 21,
   "metadata": {
    "collapsed": false
   },
   "outputs": [],
   "source": [
    "\"\"\"\n",
    ":entrée h1: ntier\n",
    ":entrée m1: entier\n",
    ":entrée s1: entier\n",
    ":entrée h2: entier\n",
    ":entrée m2: entier\n",
    ":entrée s2: entier\n",
    ":pré-cond: 0 ≤ h1 < 24, 0 ≤ m1 < 60, 0 ≤ s1 < 60\n",
    "           0 ≤ h2 < 24, 0 ≤ m2 < 60, 0 ≤ s2 < 60\n",
    "           représentent 2 moments de la même jourée\n",
    ":sortie diff: entier\n",
    ":post-cond: diff > 0 si h1:m1:s1 est après h2:m2:s2\n",
    "            diff < 0 si h1:m1:s1 est avant h2:m2:s2\n",
    "            diff = 0 si h1:m1:s1 = h2:m2:s2\n",
    "\"\"\"\n",
    "# exemple d'entrées:\n",
    "h1 = 13; m1 = 47; s1 = 12\n",
    "h2 = 13; m2 = 28; s2 = 59"
   ]
  },
  {
   "cell_type": "markdown",
   "metadata": {},
   "source": [
    "On peut donc résoudre ce problème de plusieurs manières, plus ou moins lisibles."
   ]
  },
  {
   "cell_type": "code",
   "execution_count": 22,
   "metadata": {
    "collapsed": false
   },
   "outputs": [],
   "source": [
    "# PREMIERE SOLUTION\n",
    "                \n",
    "if h1 < h2:\n",
    "    diff = -1\n",
    "else:\n",
    "    if h1 > h2:\n",
    "        diff = 1\n",
    "    else:\n",
    "        # h1 == h2\n",
    "        if m1 < m2:\n",
    "            diff = -1\n",
    "        else:\n",
    "            if m1 > m2:\n",
    "                diff = 1\n",
    "            else:\n",
    "                # m1 == m2\n",
    "                if s1 < s2:\n",
    "                    diff = -1\n",
    "                else:\n",
    "                    if s1 > s2:\n",
    "                        diff = 1\n",
    "                    else:\n",
    "                        diff = 0"
   ]
  },
  {
   "cell_type": "code",
   "execution_count": 13,
   "metadata": {
    "collapsed": false
   },
   "outputs": [
    {
     "name": "stdout",
     "output_type": "stream",
     "text": [
      "1\n"
     ]
    }
   ],
   "source": [
    "print(diff) # pour voir le résultat"
   ]
  },
  {
   "cell_type": "code",
   "execution_count": 16,
   "metadata": {
    "collapsed": false
   },
   "outputs": [],
   "source": [
    "# DEUXIEME SOLUTION pour le programme ci-dessus\n",
    "diff = (h1*3600+m1*60+s1) - (h2*3600+m2*60+s2)"
   ]
  },
  {
   "cell_type": "code",
   "execution_count": 17,
   "metadata": {
    "collapsed": false
   },
   "outputs": [
    {
     "name": "stdout",
     "output_type": "stream",
     "text": [
      "1093\n"
     ]
    }
   ],
   "source": [
    "print(diff) # pour voir le résultat"
   ]
  }
 ],
 "metadata": {
  "kernelspec": {
   "display_name": "Python 3",
   "language": "python",
   "name": "python3"
  },
  "language_info": {
   "codemirror_mode": {
    "name": "ipython",
    "version": 3
   },
   "file_extension": ".py",
   "mimetype": "text/x-python",
   "name": "python",
   "nbconvert_exporter": "python",
   "pygments_lexer": "ipython3",
   "version": "3.4.3"
  }
 },
 "nbformat": 4,
 "nbformat_minor": 0
}
