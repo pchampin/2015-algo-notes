{
 "cells": [
  {
   "cell_type": "markdown",
   "metadata": {},
   "source": [
    "# Tris par insertion\n",
    "\n",
    "C'est le tri du \"joueur de cartes\" : on insère l'une après les autres les valeurs du tableau au bon endroit par ar rapport aux valeurs qui sont à sa gauche."
   ]
  },
  {
   "cell_type": "code",
   "execution_count": 10,
   "metadata": {
    "collapsed": false
   },
   "outputs": [
    {
     "name": "stdout",
     "output_type": "stream",
     "text": [
      "# insere_valeur 1\n",
      "# insere_valeur 2\n",
      "# insere_valeur 3\n",
      "# insere_valeur 4\n",
      "# insere_valeur 5\n",
      "# [10, 11, 12, 13, 16, 17, 15, 14]\n",
      "# insere_valeur 6\n",
      "# [10, 11, 12, 13, 16, 15, 17, 14]\n",
      "# [10, 11, 12, 13, 15, 16, 17, 14]\n",
      "# insere_valeur 7\n",
      "# [10, 11, 12, 13, 15, 16, 14, 17]\n",
      "# [10, 11, 12, 13, 15, 14, 16, 17]\n",
      "# [10, 11, 12, 13, 14, 15, 16, 17]\n",
      "[10, 11, 12, 13, 14, 15, 16, 17]\n"
     ]
    }
   ],
   "source": [
    "def insere_valeur(tab, iins):\n",
    "    \"\"\"\n",
    "    :entrée/sortie tab: tableau\n",
    "    :entrée iins: int\n",
    "    :pré-cond: 1 ≤ iins < len(tab)\n",
    "               tab_e[0:iins] est déjà trié\n",
    "    :post-cond: tab_s[0:iins+1] est trié\n",
    "                tab_s[iins+1:] == tab_e[iins+1:]\n",
    "    \"\"\"\n",
    "    i = iins\n",
    "    while i >= 1 and tab[i-1] > tab[i]:\n",
    "        tab[i], tab[i-1] = tab[i-1], tab[i]\n",
    "        #print(\"===\", tab)\n",
    "        i = i-1\n",
    "        \n",
    "# version récursive\n",
    "def insere_valeur(tab, iins):\n",
    "    if iins == 0 or tab[iins-1] <= tab[iins]:\n",
    "        pass # rien à faire\n",
    "    else:\n",
    "        tab[iins], tab[iins-1] = tab[iins-1], tab[iins]\n",
    "        print(\"#\", tab)\n",
    "        insere_valeur(tab, iins-1)\n",
    "        \n",
    "def trie(tab):\n",
    "    \"\"\"\n",
    "    :entrée-sortie tab: tableau de nombres\n",
    "    :post-cond: tab_s contient les mêmes valeur que\n",
    "                tab_e, mais dans l'ordre croissant\n",
    "    \"\"\"\n",
    "    i = 1\n",
    "    while i < len(tab):\n",
    "        print(\"# insere_valeur\", i)\n",
    "        insere_valeur(tab, i)\n",
    "        i = i+1\n",
    "        \n",
    "a = [ 10, 11, 12, 13, 17, 16, 15, 14 ]\n",
    "trie(a)\n",
    "print(a)\n"
   ]
  },
  {
   "cell_type": "markdown",
   "metadata": {},
   "source": [
    "# Tri binaire (*Quicksort*)\n",
    "\n",
    "C'est le tri du joailler. Il consiste à séparer un \"tas\" (tableau non trié) en deux par rapport à une valeur pivot, pour se retrouver avec deux \"tas\" plus petit : celui des valeurs inférieures au pivot, et celui des valeurs supérieures ou égales au pivot."
   ]
  },
  {
   "cell_type": "code",
   "execution_count": 39,
   "metadata": {
    "collapsed": false
   },
   "outputs": [
    {
     "name": "stdout",
     "output_type": "stream",
     "text": [
      "===  [2, 1, 2, 3, 3, 5, 7, 6, 7, 8, 9]\n",
      "===  [2, 1, 2, 3, 3]\n",
      "===  [1, 2]\n",
      "===           [3, 3]\n",
      "===                    [7, 6, 7, 8, 9]\n",
      "===                    [6, 7]\n",
      "===                             [8, 9]\n",
      "[1, 2, 2, 3, 3, 5, 6, 7, 7, 8, 9]\n"
     ]
    }
   ],
   "source": [
    "def partitionne(tab, istart, iend):\n",
    "    \"\"\"\n",
    "    :entré-sortie tab: tableau\n",
    "    :entrée istart: int\n",
    "    :entrée iend: int\n",
    "    :pré-cond: 0 ≤ istart ≤ iend < len(tab)\n",
    "    :sortie ipivot: int\n",
    "    :post-cond: toutes valeurs à gauche de ipivot sont < tab[ipivot]\n",
    "                toutes valeurs à droite de ipivot sont ≥ tab[ipivot]\n",
    "    \"\"\"\n",
    "    pivot = tab[istart]\n",
    "    i = istart + 1\n",
    "    j = iend\n",
    "    while i <= j:\n",
    "        print(\"---\", \" \"*(3*istart), tab[istart:iend+1]), istart, iend\n",
    "        if tab[i] <= pivot:\n",
    "            i = i+1\n",
    "        else:\n",
    "            if tab[j] > pivot:\n",
    "                j = j-1\n",
    "            else:\n",
    "                tab[i], tab[j] = tab[j], tab[i]\n",
    "                i = i+1\n",
    "                j = j-1\n",
    "    # on place le pivot entre les deux sous-tableaux\n",
    "    ipivot = j\n",
    "    tab[istart], tab[ipivot] = tab[ipivot], tab[istart]\n",
    "    print(\"===\", \" \"*(3*istart), tab[istart:iend+1]), istart, iend\n",
    "    return ipivot\n",
    "    \n",
    "def tri(tab):\n",
    "    tri_binaire(tab, 0, len(tab)-1)\n",
    "    \n",
    "def tri_binaire(tab, istart, iend):\n",
    "    \"\"\"\n",
    "    Trie le tableau entre istart et idend.\n",
    "    \"\"\"\n",
    "    if istart >= iend: # sous-tableau d'une case ou moins\n",
    "        pass # rien à faire\n",
    "    else:\n",
    "        ipivot = partitionne(tab, istart, iend)\n",
    "        tri_binaire(tab, istart, ipivot-1)\n",
    "        tri_binaire(tab, ipivot+1, iend)\n",
    "\n",
    "tab = [5, 1, 2, 3, 6, 7, 2, 3, 7, 8, 9]\n",
    "tri(tab)\n",
    "print(tab)\n"
   ]
  }
 ],
 "metadata": {
  "kernelspec": {
   "display_name": "Python 3",
   "language": "python",
   "name": "python3"
  },
  "language_info": {
   "codemirror_mode": {
    "name": "ipython",
    "version": 3
   },
   "file_extension": ".py",
   "mimetype": "text/x-python",
   "name": "python",
   "nbconvert_exporter": "python",
   "pygments_lexer": "ipython3",
   "version": "3.5.0"
  }
 },
 "nbformat": 4,
 "nbformat_minor": 0
}
