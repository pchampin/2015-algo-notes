{
 "cells": [
  {
   "cell_type": "markdown",
   "metadata": {},
   "source": [
    "### Chiffres en base 10"
   ]
  },
  {
   "cell_type": "code",
   "execution_count": null,
   "metadata": {
    "collapsed": true
   },
   "outputs": [],
   "source": [
    "n = 112 # essayez par exemple avec 42, 7, 112, 999 ; cas particuliers: 0, 10\n",
    "\n",
    "# n est un entier ≥ 0\n",
    "\n",
    "nb_chiffres = 1\n",
    "while n >= 10:\n",
    "    nb_chiffres = nb_chiffres+1\n",
    "    n = n//10\n",
    "\n",
    "# nb_chiffres est le nombre de chiffres qui composent n en base 10"
   ]
  },
  {
   "cell_type": "code",
   "execution_count": 16,
   "metadata": {
    "collapsed": false
   },
   "outputs": [
    {
     "name": "stdout",
     "output_type": "stream",
     "text": [
      "3\n"
     ]
    }
   ],
   "source": [
    "print(nb_chiffres)"
   ]
  },
  {
   "cell_type": "code",
   "execution_count": 18,
   "metadata": {
    "collapsed": false
   },
   "outputs": [],
   "source": [
    "n = 11119\n",
    "\n",
    "# n est un entier ≥ 0\n",
    "somme = 0\n",
    "while n > 0:\n",
    "    c = n % 10 # le chiffre des unités\n",
    "    somme = somme + c\n",
    "    n = n // 10 # on se débarasse du chiffre qu'on vient d'ajouter à somme\n",
    "\n",
    "# somme est la somme des chiffres qui composent n en base 10"
   ]
  },
  {
   "cell_type": "code",
   "execution_count": 19,
   "metadata": {
    "collapsed": false
   },
   "outputs": [
    {
     "name": "stdout",
     "output_type": "stream",
     "text": [
      "13\n"
     ]
    }
   ],
   "source": [
    "print(somme)"
   ]
  },
  {
   "cell_type": "markdown",
   "metadata": {},
   "source": [
    "### Lisibilité\n",
    "\n",
    "Un algorithme n'est pas seulement écrit pour l'ordinateur qui l'exécute, il l'est aussi pour les humains qui vont le relire (pour le comprendre, le vérifier, pour le modifier...). Il ne suffit donc pas qu'il soit **correct** (c.à.d. qu'il donne le résultat attendu), mais aussi qu'il soit **lisible**: il doit être écrit de manière à aider sa compréhension par l'humain qui le lit.\n",
    "\n",
    "Un algorithme est écrit une fois, mais lu et relu de nombreuses fois. Le temps passé à soigner la lisibilité lors de l'écriture est donc rentabilisé par le temps qu'il fait gagner à chaque relecture.\n",
    "\n",
    "#### Variables\n",
    "\n",
    "Les variables doivent toujours avoir des noms *explicites*, pour indiquer leur *signification* dans l'algorithme. Cela dit, dans l'optique de faciliter la lecture, les noms de variables ne doivent pas non plus être trop long, car dans ce cas ils entravent aussi la lisibilité. Par exemple, l'algorithme ci-dessus pourrait être ré-écrit ainsi :"
   ]
  },
  {
   "cell_type": "code",
   "execution_count": 23,
   "metadata": {
    "collapsed": false
   },
   "outputs": [],
   "source": [
    "entier_positif = 11119\n",
    "\n",
    "# entier_positif est un entier ≥ 0\n",
    "somme_des_chiffres = 0\n",
    "while entier_positif > 0:\n",
    "    chiffre_des_unités = entier_positif % 10\n",
    "    somme_des_chiffres = somme_des_chiffres + chiffre_des_unités\n",
    "    entier_positif = entier_positif // 10 # on se débarasse du chiffre des unités\n",
    "\n",
    "# somme_des_chiffres est la somme des chiffres qui composent n en base 10"
   ]
  },
  {
   "cell_type": "markdown",
   "metadata": {},
   "source": [
    "Les noms de variables ci-dessus sont plus explicites que dans la version précédente, mais ils sont si long que les calculs deviennent difficile à distinguer. La lisibilité demande donc un compromis entre explicitation et concision (ce qui implique forcément une part de subjectivité).\n",
    "\n",
    "#### Commentaires\n",
    "\n",
    "Les commentaires sont des textes ignorés par l'ordinateur, qui sont donc exclusivement destinés à l'humain.\n",
    "\n",
    "Il faut proscrire à tout prix les commentaires **redondants** avec le code, c'est à dire qui répètent en français ce que le code dit déjà (de manière plus précise), par exemple :"
   ]
  },
  {
   "cell_type": "code",
   "execution_count": 26,
   "metadata": {
    "collapsed": true
   },
   "outputs": [],
   "source": [
    "# ☠ MAUVAIS EXEMPLE ☠\n",
    "\n",
    "somme = 0 # initialise somme à 0\n",
    "while n > 0: # répète tant que n est supérieur à 0\n",
    "    c = n % 10 # c reçoit n modulo 10\n",
    "    somme = somme + c # on ajoute c à somme\n",
    "    n = n // 10 # on divise n par 10"
   ]
  },
  {
   "cell_type": "markdown",
   "metadata": {},
   "source": [
    "Ces commentaires sont mauvais car\n",
    "\n",
    "* ils augmentent la quantité de texte à lire, *sans ajouter d'information*, donc ils rendent le code *moins* lisible ;\n",
    "\n",
    "* si le code vient à évoluer (par exemple, ci-dessus, si on décide de changer de base en remplaçant 10 par une autre valeur), on risque d'oublier de mettre à jour les commentaires. Dans ce cas les commentaires ne sont plus redondants, mais deviennent *contradictoires* avec le code, rendant sa lecture encore plus difficile.\n",
    "\n",
    "Un bon commentaire est un commentaire qui rend explicite ce qui ne l'est pas forcément dans le code: les intentions ou les motivations du programmeur. Là encore, c'est un jugement subjectif : un programmeur expérimenté est plus capable de \"lire entre les lignes\" d'un programme pour y reconnaître les intentions de l'auteur"
   ]
  }
 ],
 "metadata": {
  "kernelspec": {
   "display_name": "Python 3",
   "language": "python",
   "name": "python3"
  },
  "language_info": {
   "codemirror_mode": {
    "name": "ipython",
    "version": 3
   },
   "file_extension": ".py",
   "mimetype": "text/x-python",
   "name": "python",
   "nbconvert_exporter": "python",
   "pygments_lexer": "ipython3",
   "version": "3.4.3"
  }
 },
 "nbformat": 4,
 "nbformat_minor": 0
}
