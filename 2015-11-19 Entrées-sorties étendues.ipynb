{
 "cells": [
  {
   "cell_type": "markdown",
   "metadata": {},
   "source": [
    "### Notions étendues d'entrées-sorties\n",
    "\n",
    "On peut considérer que tout algorithme a nécessairement des entrées et des sorties,\n",
    "mais que la manière dont ces entrées-sorties sont communiquées avec l'extérieur \n",
    "(leur \"mode de transmission\") varie d'un algorithme à l'autre.\n",
    "\n",
    "Par exemple, les trois algorithmes suivants effectuent le même calcul,\n",
    "mais échangent leurs entrées-sorties de trois manières différentes."
   ]
  },
  {
   "cell_type": "code",
   "execution_count": 1,
   "metadata": {
    "collapsed": false
   },
   "outputs": [
    {
     "name": "stdout",
     "output_type": "stream",
     "text": [
      "Valeur de n (entier positif ou nul) ? 7\n",
      "720\n"
     ]
    }
   ],
   "source": [
    "\"\"\"\n",
    ":entrée n: int, SAISIE au clavier\n",
    ":pré-cond: n ≥ 0\n",
    ":sortie f: int, AFFICHÉE à l'écran\n",
    ":post-cond: f = n! = 1×2×3×...×n\n",
    "\"\"\"\n",
    "n = int(input(\"Valeur de n (entier positif ou nul) ? \"))\n",
    "f = 1\n",
    "i = 2\n",
    "while i < n:\n",
    "    f = f*i\n",
    "    i = i+1\n",
    "print(f)"
   ]
  },
  {
   "cell_type": "code",
   "execution_count": 3,
   "metadata": {
    "collapsed": true
   },
   "outputs": [],
   "source": [
    "\"\"\"\n",
    ":entrée n: int, AFFECTÉE précédemment\n",
    ":pré-cond: n ≥ 0\n",
    ":sortie f: int, AFFECTÉE pour la suite\n",
    ":post-cond: f = n! = 1×2×3×...×n\n",
    "\"\"\"\n",
    "f = 1\n",
    "i = 2\n",
    "while i < n:\n",
    "    f = f*i\n",
    "    i = i+1"
   ]
  },
  {
   "cell_type": "code",
   "execution_count": 5,
   "metadata": {
    "collapsed": true
   },
   "outputs": [],
   "source": [
    "def fact(n):\n",
    "    \"\"\"\n",
    "    :entrée n: int, PASSÉE en paramètre\n",
    "    :pré-cond: n ≥ 0\n",
    "    :sortie f: int, RETOURNÉE\n",
    "    :post-cond: f = n! = 1×2×3×...×n\n",
    "    \"\"\"\n",
    "    f = 1\n",
    "    i = 2\n",
    "    while i < n:\n",
    "        f = f*i\n",
    "        i = i+1\n",
    "    return f"
   ]
  },
  {
   "cell_type": "markdown",
   "metadata": {},
   "source": [
    "On admettra que, dans une *fonction*,\n",
    "lorsque qu'on ne spécifie pas le mode de transmission des entrées-sorties,\n",
    "il est forcément \"PASSÉE en paramètre\" pour les entrées,\n",
    "et \"RETOURÉE\" pour les sorties.\n",
    "\n",
    "Mais certaines fonctions utilisent d'autres modes de transmission,\n",
    "par exemple :"
   ]
  },
  {
   "cell_type": "code",
   "execution_count": 7,
   "metadata": {
    "collapsed": true
   },
   "outputs": [],
   "source": [
    "# la fonction input fournie par Python (version sans paramètre)\n",
    "def input():\n",
    "    \"\"\"\n",
    "    :entrée txt1: str, SAISIE au clavier\n",
    "    :sortie txt2: str\n",
    "    :post-cond: txt2 = txt1\n",
    "    \"\"\"\n",
    "    \n",
    "# la fonction print fournie par Python\n",
    "def print(val1):\n",
    "    \"\"\"\n",
    "    :entrée val1: une valeur quelconque\n",
    "    :sortie val2: une valeur quelconque, AFFICHÉE à l'écran\n",
    "    :post-cond: val2 = val1\n",
    "    \"\"\""
   ]
  },
  {
   "cell_type": "markdown",
   "metadata": {},
   "source": [
    "Notons cependant que les entrées-sorties d'une fonction ne peuvent pas avoir pour mode de transmission \"AFFECTÉE précédemment\" ou \"AFFECTÉE pour la suite\", puisque les variables d'une fonction n'existent qu'à l'intérieur de cette fonction."
   ]
  },
  {
   "cell_type": "markdown",
   "metadata": {},
   "source": [
    "#### Fonction et procédure\n",
    "\n",
    "On a appelé \"fonction\" tout algorithme défini par le mot-clé ``def``.\n",
    "C'est effectivement le terme général employé dans la plupart des langages de programmation.\n",
    "\n",
    "Cela dit, il est parfois nécessaire de distinguer plusieurs types de fonction (au sens large).\n",
    "\n",
    "* Dans son sens strict,\n",
    "  le terme **fonction** désigne un algorithme dont toutes les entrées sont PASSÉES en paramètre,\n",
    "  et toutes les sorties sont RETOURNÉES (par exemple, la fonction ``fact`` ci-dessus).\n",
    "  \n",
    "* On appelle **procédure** un algorithme dont aucune sortie n'est RETOURNÉE\n",
    "  (par exemple, la fonction ``print`` de Python).\n",
    "  \n",
    "* La dénomination des algorithmes ne rentrant dans aucune de ces deux catégorie varie d'une personne à l'autre ;\n",
    "  par exemple, la fonction ``input`` de Python sera appelée \"fonction\" par certains\n",
    "  (parce qu'elle retourne une valeur),\n",
    "  et \"procédure\" par d'autres\n",
    "  (parce que ce n'est pas une fonction au sens strict, son entrée n'est pas passée en paramètre).\n"
   ]
  }
 ],
 "metadata": {
  "kernelspec": {
   "display_name": "Python 3",
   "language": "python",
   "name": "python3"
  },
  "language_info": {
   "codemirror_mode": {
    "name": "ipython",
    "version": 3
   },
   "file_extension": ".py",
   "mimetype": "text/x-python",
   "name": "python",
   "nbconvert_exporter": "python",
   "pygments_lexer": "ipython3",
   "version": "3.4.3"
  }
 },
 "nbformat": 4,
 "nbformat_minor": 0
}
