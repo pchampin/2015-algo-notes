{
 "cells": [
  {
   "cell_type": "markdown",
   "metadata": {},
   "source": [
    "# Récursivité\n",
    "\n",
    "http://robozzle.com/js/play.aspx?puzzle=656\n",
    "\n",
    "Une fonction **récursive** est une fonction qui s'appelle elle-même.\n",
    "Chaque appel à la fonction est indépendant des autres, avec ses propres variables.\n",
    "\n",
    "Une récursion a toujours la forme suivante :\n",
    "```\n",
    "  if (cas simple):\n",
    "      (solution immédiate)\n",
    "  else:\n",
    "      (solution récursive,\n",
    "       impliquant un cas plus simple que le problème original)\n",
    "```\n",
    "\n",
    "Écrire *sans boucle* les fonctions suivantes :"
   ]
  },
  {
   "cell_type": "code",
   "execution_count": 3,
   "metadata": {
    "collapsed": false
   },
   "outputs": [
    {
     "name": "stdout",
     "output_type": "stream",
     "text": [
      "The tutormagic extension is already loaded. To reload it, use:\n",
      "  %reload_ext tutormagic\n"
     ]
    }
   ],
   "source": [
    "%load_ext tutormagic"
   ]
  },
  {
   "cell_type": "code",
   "execution_count": 5,
   "metadata": {
    "collapsed": false
   },
   "outputs": [
    {
     "name": "stdout",
     "output_type": "stream",
     "text": [
      "--- fact(1) = 1\n",
      "--- fact(2) = 2\n",
      "--- fact(3) = 6\n",
      "--- fact(4) = 24\n",
      "--- fact(5) = 120\n",
      "--- fact(6) = 720\n",
      "720\n"
     ]
    }
   ],
   "source": [
    "def fact(n):\n",
    "    \"\"\"\n",
    "    :entrée n: int\n",
    "    :pré-cond: n > 0\n",
    "    :sortie f: int\n",
    "    :post-cond: f = n! = 1×2×3×...×(n-1)×n\n",
    "    \"\"\"\n",
    "    if n == 1:\n",
    "        f = 1\n",
    "    else:\n",
    "        f = fact(n-1)*n\n",
    "    print(\"--- fact({}) = {}\".format(n,f))\n",
    "    return f\n",
    "\n",
    "print(fact(6))"
   ]
  },
  {
   "cell_type": "code",
   "execution_count": 7,
   "metadata": {
    "collapsed": false
   },
   "outputs": [
    {
     "data": {
      "text/html": [
       "\n",
       "        <iframe\n",
       "            width=\"90%\"\n",
       "            height=\"350\"\n",
       "            src=\"http://pythontutor.com/iframe-embed.html#code=def%20fact%28n%29%3A%0A%20%20%20%20if%20n%20%3D%3D%201%3A%0A%20%20%20%20%20%20%20%20f%20%3D%201%0A%20%20%20%20else%3A%0A%20%20%20%20%20%20%20%20f%20%3D%20fact%28n-1%29%2An%0A%20%20%20%20return%20f%0Aprint%20%28fact%284%29%29&origin=opt-frontend.js&cumulative=false&heapPrimitives=false&textReferences=false&py=3&rawInputLstJSON=%5B%5D&curInstr=0&codeDivWidth=50%25&codeDivHeight=100%25\"\n",
       "            frameborder=\"0\"\n",
       "            allowfullscreen\n",
       "        ></iframe>\n",
       "        "
      ],
      "text/plain": [
       "<IPython.lib.display.IFrame at 0x7f50380b22b0>"
      ]
     },
     "metadata": {},
     "output_type": "display_data"
    }
   ],
   "source": [
    "%%tutor --lang python3\n",
    "def fact(n):\n",
    "    if n == 1:\n",
    "        f = 1\n",
    "    else:\n",
    "        f = fact(n-1)*n\n",
    "    return f\n",
    "print (fact(4))"
   ]
  },
  {
   "cell_type": "code",
   "execution_count": 8,
   "metadata": {
    "collapsed": false
   },
   "outputs": [
    {
     "name": "stdout",
     "output_type": "stream",
     "text": [
      "--- 2^0 = 1\n",
      "--- 2^1 = 2\n",
      "--- 2^2 = 4\n",
      "--- 2^3 = 8\n",
      "8\n"
     ]
    }
   ],
   "source": [
    "def puissance(x, n):\n",
    "    \"\"\"\n",
    "    :entrée x: float\n",
    "    :entrée n: entier \n",
    "    :pré-cond: n ≥ 0\n",
    "    :sortie p: float\n",
    "    :post-cond: p = x^n\n",
    "    \"\"\"\n",
    "    if n == 0:\n",
    "        p = 1\n",
    "    else:\n",
    "        p = puissance(x, n-1) * x\n",
    "    print(\"--- {}^{} = {}\".format(x, n, p))\n",
    "    return p\n",
    "\n",
    "print(puissance(2,3))"
   ]
  },
  {
   "cell_type": "code",
   "execution_count": null,
   "metadata": {
    "collapsed": false
   },
   "outputs": [],
   "source": [
    "def contient(s, c):\n",
    "    \"\"\"\n",
    "    :entrée s: str\n",
    "    :entrée c: c\n",
    "    :pré-cond: len(c) == 1\n",
    "    :sortie cont: bool\n",
    "    :post-cond: cont vaut True si et seulement si\n",
    "                s contient le caractère c\n",
    "    \"\"\"\n",
    "    if len(s) == 0:\n",
    "        cont = False\n",
    "    else:\n",
    "        if s[0] == c:\n",
    "            cont = True\n",
    "        else:\n",
    "            cont = contient(s[1:len(s)], c)"
   ]
  }
 ],
 "metadata": {
  "kernelspec": {
   "display_name": "Python 3",
   "language": "python",
   "name": "python3"
  },
  "language_info": {
   "codemirror_mode": {
    "name": "ipython",
    "version": 3
   },
   "file_extension": ".py",
   "mimetype": "text/x-python",
   "name": "python",
   "nbconvert_exporter": "python",
   "pygments_lexer": "ipython3",
   "version": "3.5.0"
  }
 },
 "nbformat": 4,
 "nbformat_minor": 0
}
