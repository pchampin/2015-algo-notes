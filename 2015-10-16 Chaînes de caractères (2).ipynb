{
 "cells": [
  {
   "cell_type": "code",
   "execution_count": 1,
   "metadata": {
    "collapsed": false
   },
   "outputs": [
    {
     "data": {
      "text/plain": [
       "True"
      ]
     },
     "execution_count": 1,
     "metadata": {},
     "output_type": "execute_result"
    }
   ],
   "source": [
    "txt = \"test blablablablabla\"\n",
    "\"\"\"\n",
    ":entrée txt: chaîne\n",
    ":sortie espaces: booléen\n",
    ":pré-cond: aucune\n",
    ":post-cond: espaces est True si txt contient des espaces, faux sinon\n",
    "\"\"\"\n",
    "\n",
    "i = 0\n",
    "espaces = False\n",
    "while i < len(txt) and not espaces:\n",
    "    if txt[i] == \" \":\n",
    "        espaces = True\n",
    "    i = i+1\n",
    "    \n",
    "espaces"
   ]
  },
  {
   "cell_type": "markdown",
   "metadata": {},
   "source": [
    "Dans l'algorithme ci-dessus, on sort de la boucle *dès* qu'on trouve une espace (ce n'est pas la peine de parcourir le reste de la chaîne).\n",
    "\n",
    "La complexité de cet algorithme est en 𝓞(longueur du premier mot de txt), ou par \"mot\" on entend \"séquence de caractères différents de l'espace\".\n",
    "\n",
    "On peut également majorer cette complexité en disant que la complexité *dans le pire des cas* est en 𝓞(len(txt)) -- ou le pire des cas correspond à une chaîne sans espaces."
   ]
  },
  {
   "cell_type": "code",
   "execution_count": 2,
   "metadata": {
    "collapsed": false
   },
   "outputs": [
    {
     "data": {
      "text/plain": [
       "3"
      ]
     },
     "execution_count": 2,
     "metadata": {},
     "output_type": "execute_result"
    }
   ],
   "source": [
    "txt = \"hello world\"\n",
    "caractères = \"aeiou\"\n",
    "\n",
    "\"\"\"\n",
    ":entrée txt: chaîne\n",
    ":entrée caractères: chaîne\n",
    ":sortie nb: entier\n",
    ":pré-cond: len(caractères) > 0\n",
    ":post-cond: 'nb' est le nombre d'occurences dans 'txt' de caractères présents dans 'caractères'\n",
    "\"\"\"\n",
    "nb = 0\n",
    "i = 0\n",
    "while i < len(txt):\n",
    "    j = 0\n",
    "    while j < len(caractères):\n",
    "        if txt[i] == caractères[j]:\n",
    "            nb = nb+1\n",
    "        j = j+1\n",
    "    i = i+1\n",
    "    \n",
    "nb"
   ]
  },
  {
   "cell_type": "code",
   "execution_count": 3,
   "metadata": {
    "collapsed": false
   },
   "outputs": [
    {
     "data": {
      "text/plain": [
       "3"
      ]
     },
     "execution_count": 3,
     "metadata": {},
     "output_type": "execute_result"
    }
   ],
   "source": [
    "\"\"\"\n",
    ":entrée txt: chaîne\n",
    ":entrée caractères: chaîne\n",
    ":sortie nb: entier\n",
    ":pré-cond: len(caractères) > 0\n",
    ":post-cond: 'nb' est le nombre d'occurences dans 'txt' de caractères présents dans 'caractères'\n",
    "\"\"\"\n",
    "nb = 0\n",
    "i = 0\n",
    "while i < len(txt):\n",
    "    j = 0\n",
    "    trouvé = False\n",
    "    while j < len(caractères) and not trouvé:\n",
    "        if txt[i] == caractères[j]:\n",
    "            trouvé = True\n",
    "        j = j+1\n",
    "    if trouvé:\n",
    "        nb = nb+1\n",
    "    i = i+1\n",
    "    \n",
    "nb"
   ]
  },
  {
   "cell_type": "markdown",
   "metadata": {},
   "source": [
    "La complexité dans le pire des cas de cet algorithme est 𝓞(len(txt)×len(caractères)),\n",
    "car chaque caractère de `txt` doit potentiellement être comparé à chaque caractère de `caractères`."
   ]
  }
 ],
 "metadata": {
  "kernelspec": {
   "display_name": "Python 3",
   "language": "python",
   "name": "python3"
  },
  "language_info": {
   "codemirror_mode": {
    "name": "ipython",
    "version": 3
   },
   "file_extension": ".py",
   "mimetype": "text/x-python",
   "name": "python",
   "nbconvert_exporter": "python",
   "pygments_lexer": "ipython3",
   "version": "3.4.3"
  }
 },
 "nbformat": 4,
 "nbformat_minor": 0
}
