{
 "cells": [
  {
   "cell_type": "markdown",
   "metadata": {},
   "source": [
    "### Condition (suite)\n",
    "\n",
    "Un `if` n'a pas toujours de `else` associé."
   ]
  },
  {
   "cell_type": "code",
   "execution_count": 3,
   "metadata": {
    "collapsed": false
   },
   "outputs": [
    {
     "name": "stdout",
     "output_type": "stream",
     "text": [
      "1 8\n"
     ]
    }
   ],
   "source": [
    "x = 8\n",
    "\n",
    "# x contient un nombre\n",
    "s = 1\n",
    "if x < 0:\n",
    "    x = -x\n",
    "    s = -1\n",
    "print(s, x)\n",
    "# affiche le signe (1 ou -1) et la valeur absolue de x\n",
    " "
   ]
  },
  {
   "cell_type": "markdown",
   "metadata": {},
   "source": [
    "* Lorsque x vaut initialement -7, l'ordinateur exécute les lignes 1, 2, 3, 4 et 5.\n",
    "* Lorsque x vaut initialement 8,  l'ordinateur exécute les lignes 1, 2 et 5."
   ]
  },
  {
   "cell_type": "markdown",
   "metadata": {},
   "source": [
    "### Boucle"
   ]
  },
  {
   "cell_type": "code",
   "execution_count": 4,
   "metadata": {
    "collapsed": false
   },
   "outputs": [
    {
     "name": "stdout",
     "output_type": "stream",
     "text": [
      "2\n"
     ]
    }
   ],
   "source": [
    "n = 17\n",
    "d = 3\n",
    "\n",
    "# n et d contiennent des entiers positifs (strictement positif pour d)\n",
    "\n",
    "r = n\n",
    "while r >= d:\n",
    "    r = r - d\n",
    "print(r)\n",
    "\n",
    "# affiche le reste de la division de n par d"
   ]
  },
  {
   "cell_type": "code",
   "execution_count": 5,
   "metadata": {
    "collapsed": false
   },
   "outputs": [
    {
     "name": "stdout",
     "output_type": "stream",
     "text": [
      "5 2\n"
     ]
    }
   ],
   "source": [
    "n = 17\n",
    "d = 3\n",
    "\n",
    "# n et d contiennent des entiers positifs (strictement positif pour d)\n",
    "\n",
    "r = n\n",
    "q = 0\n",
    "while r >= d:\n",
    "    r = r - d\n",
    "    q = q + 1\n",
    "print(q, r)\n",
    "\n",
    "# affiche le quotien et le reste de la division de n par d\n"
   ]
  },
  {
   "cell_type": "code",
   "execution_count": 6,
   "metadata": {
    "collapsed": false
   },
   "outputs": [
    {
     "name": "stdout",
     "output_type": "stream",
     "text": [
      "3\n"
     ]
    }
   ],
   "source": [
    "a = 75\n",
    "b = 24\n",
    "\n",
    "# a ≥ b > 0 sont deux entiers\n",
    "\n",
    "while b > 0:\n",
    "    a = a - b\n",
    "    if a < b:\n",
    "        tmp = b\n",
    "        b = a\n",
    "        a = tmp\n",
    "pgcd = a\n",
    "\n",
    "# calcule x le PGCD des valeurs initiales de a et b\n",
    "\n",
    "print(pgcd)"
   ]
  },
  {
   "cell_type": "markdown",
   "metadata": {},
   "source": [
    "Visualiser [l'exécution de l'agorithme ci-dessus](http://pythontutor.com/visualize.html#code=a+%3D+75%0Ab+%3D+24%0A%0A%23+a+%E2%89%A5+b+%3E+0+sont+deux+entiers%0A%0Awhile+b+%3E+0%3A%0A++++a+%3D+a+-+b%0A++++if+a+%3C+b%3A%0A++++++++tmp+%3D+b%0A++++++++b+%3D+a%0A++++++++a+%3D+tmp%0Apgcd+%3D+a%0A%0A%23+calcule+x+le+PGCD+des+valeurs+initiales+de+a+et+b%0A%0Aprint(pgcd%29&mode=display&origin=opt-frontend.js&cumulative=false&heapPrimitives=false&textReferences=false&py=3&rawInputLstJSON=%5B%5D&curInstr=0) sur Pythontutor."
   ]
  }
 ],
 "metadata": {
  "kernelspec": {
   "display_name": "Python 3",
   "language": "python",
   "name": "python3"
  },
  "language_info": {
   "codemirror_mode": {
    "name": "ipython",
    "version": 3
   },
   "file_extension": ".py",
   "mimetype": "text/x-python",
   "name": "python",
   "nbconvert_exporter": "python",
   "pygments_lexer": "ipython3",
   "version": "3.4.3"
  }
 },
 "nbformat": 4,
 "nbformat_minor": 0
}
