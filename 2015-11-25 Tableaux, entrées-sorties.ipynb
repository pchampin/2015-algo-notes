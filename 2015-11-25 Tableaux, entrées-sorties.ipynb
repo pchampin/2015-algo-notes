{
 "cells": [
  {
   "cell_type": "code",
   "execution_count": 40,
   "metadata": {
    "collapsed": true
   },
   "outputs": [],
   "source": [
    "from numpy import array, empty"
   ]
  },
  {
   "cell_type": "markdown",
   "metadata": {},
   "source": [
    "Création d'un tableau à partir d'une liste de valeur :"
   ]
  },
  {
   "cell_type": "code",
   "execution_count": 41,
   "metadata": {
    "collapsed": false
   },
   "outputs": [],
   "source": [
    "a = array([2,4,6,0,2,8])"
   ]
  },
  {
   "cell_type": "markdown",
   "metadata": {},
   "source": [
    "Création d'un tableau non initialisé :"
   ]
  },
  {
   "cell_type": "code",
   "execution_count": 43,
   "metadata": {
    "collapsed": false
   },
   "outputs": [],
   "source": [
    "a = empty(10, float)  # taille du tableau, type d'éléments"
   ]
  },
  {
   "cell_type": "code",
   "execution_count": 22,
   "metadata": {
    "collapsed": false
   },
   "outputs": [
    {
     "name": "stdout",
     "output_type": "stream",
     "text": [
      "[  9  18  27  36  45  54  63  72  81  90  99 108 117 126 135 144 153 162\n",
      " 171 180 189 198 207 216 225 234 243 252 261 270 279 288 297 306 315 324\n",
      " 333 342 351 360 369 378 387 396 405 414 423 432 441 450]\n"
     ]
    }
   ],
   "source": [
    "def multiples(n, l):\n",
    "    \"\"\"\n",
    "    :entrée n, l: entier\n",
    "    :pré-cond: l > 0\n",
    "    :sortie multiples: tableau d'entiers\n",
    "    :post-condition: multiples est un tableau de longueur l,\n",
    "      contenant dans l'ordre les l premiers multiples de n\n",
    "      (en commençant par l×1)\n",
    "    \"\"\"\n",
    "    multiples = empty(l, int)\n",
    "    i = 0\n",
    "    while i < l:\n",
    "        multiples[i] = n*(i+1)\n",
    "        i = i+1\n",
    "    return multiples\n",
    "\n",
    "# alternative\n",
    "\n",
    "def multiples(n, l):\n",
    "    \"\"\"\n",
    "    :entrée n, l: entier\n",
    "    :pré-cond: l > 0\n",
    "    :sortie multiples: tableau d'entiers\n",
    "    :post-condition: multiples est un tableau de longueur l,\n",
    "      contenant dans l'ordre les l premiers multiples de n\n",
    "      (en commençant par l×1)\n",
    "    \"\"\"\n",
    "    multiples = empty(l, int)\n",
    "    i = 1\n",
    "    while i <= l:\n",
    "        multiples[i-1] = n*i\n",
    "        i = i+1\n",
    "    return multiples\n",
    "\n",
    "print(multiples(9,50))"
   ]
  },
  {
   "cell_type": "code",
   "execution_count": 44,
   "metadata": {
    "collapsed": false
   },
   "outputs": [
    {
     "name": "stdout",
     "output_type": "stream",
     "text": [
      "[ 13.   8.   5.   3.   2.   1.   1.]\n"
     ]
    }
   ],
   "source": [
    "def inverse_tableau(a):\n",
    "    \"\"\"\n",
    "    :entrée a: tableau de float\n",
    "    :sortie ai: tableau de float\n",
    "    :post-cond: len(ai) == len(a)\n",
    "        et ai contient les mêmes éléments que a\n",
    "        mais dans l'ordre inverse:\n",
    "        ∀ i ∈ [0;len(a)[, ai[i] == a[len(a)-1-i]\n",
    "    \"\"\"\n",
    "    ai = empty(len(a), float)\n",
    "    \n",
    "    i = 0\n",
    "    j = len(a)-1\n",
    "    while i < len(a):\n",
    "        ai[i] = a[j]\n",
    "        i = i+1\n",
    "        j = j-1\n",
    "    \n",
    "    return ai\n",
    "\n",
    "print(inverse_tableau([1,1,2,3,5,8,13]))\n"
   ]
  },
  {
   "cell_type": "markdown",
   "metadata": {},
   "source": [
    "* un tableau passé en entrée ne doit **pas** avoir son contenu modifié\n",
    "* on définit un nouveay type de paramètre,\n",
    "  paramètre d'**entrée-sortie**, qui est passé en paramètre,\n",
    "  et susceptible d'être modifié\n",
    "* dans les post-conditions,\n",
    "  on utilise les suffixes *e* et *s* pour parler de la valeur *en entrée*\n",
    "  (respectivement en sortie) du paramètre d'entrée-sortie"
   ]
  },
  {
   "cell_type": "code",
   "execution_count": null,
   "metadata": {
    "collapsed": true
   },
   "outputs": [],
   "source": [
    "def inverse_tableau_en_place(a):\n",
    "    \"\"\"\n",
    "    :entrée-sortie a: tableau de float\n",
    "    :post-cond: ∀ i ∈ [0;len(a)[, aₛ[i] == aₑ[len(a)-1-i]\n",
    "    \"\"\"\n",
    "    i = 0\n",
    "    j = len(a)-1\n",
    "    while i < j:\n",
    "        tmp = a[i]\n",
    "        a[i] = a[j]\n",
    "        a[j] = tmp\n",
    "        i = i+1\n",
    "        j = j-1\n"
   ]
  }
 ],
 "metadata": {
  "kernelspec": {
   "display_name": "Python 3",
   "language": "python",
   "name": "python3"
  },
  "language_info": {
   "codemirror_mode": {
    "name": "ipython",
    "version": 3
   },
   "file_extension": ".py",
   "mimetype": "text/x-python",
   "name": "python",
   "nbconvert_exporter": "python",
   "pygments_lexer": "ipython3",
   "version": "3.5.0"
  }
 },
 "nbformat": 4,
 "nbformat_minor": 0
}
