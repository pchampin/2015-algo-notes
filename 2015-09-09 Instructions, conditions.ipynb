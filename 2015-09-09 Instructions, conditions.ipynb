{
 "cells": [
  {
   "cell_type": "markdown",
   "metadata": {},
   "source": [
    "###Instructions : donne un ordre à l'ordinateur"
   ]
  },
  {
   "cell_type": "markdown",
   "metadata": {},
   "source": [
    "**Affectation** : stocke une valeur dans une variable\n",
    "```\n",
    "   {nom de variable} = {expression}\n",
    "```"
   ]
  },
  {
   "cell_type": "code",
   "execution_count": null,
   "metadata": {
    "collapsed": false
   },
   "outputs": [],
   "source": [
    "x = 7\n",
    "age = 40 + 2*x"
   ]
  },
  {
   "cell_type": "markdown",
   "metadata": {},
   "source": [
    "**Affichage** : affiche une expression à l'écran\n",
    "```\n",
    "   print({expression})\n",
    "```"
   ]
  },
  {
   "cell_type": "code",
   "execution_count": null,
   "metadata": {
    "collapsed": false
   },
   "outputs": [],
   "source": [
    "print(age/3)"
   ]
  },
  {
   "cell_type": "markdown",
   "metadata": {},
   "source": [
    "**Récupération de valeur**: réclame une valeur à l'utilisateur\n",
    "```\n",
    "    {variable} = input()\n",
    "```\n",
    "NB: `input()` est une expression; on pourrait éventuellement l'utiliser dans une expression plus complexe..."
   ]
  },
  {
   "cell_type": "code",
   "execution_count": null,
   "metadata": {
    "collapsed": false
   },
   "outputs": [],
   "source": [
    "message = input()"
   ]
  },
  {
   "cell_type": "markdown",
   "metadata": {},
   "source": [
    "NB: la valeur récupérée est de type chaîne de caractère.\n",
    "Pour récupérer un entier ou un flottant, utiliser les écritures suivantes :"
   ]
  },
  {
   "cell_type": "code",
   "execution_count": null,
   "metadata": {
    "collapsed": false
   },
   "outputs": [],
   "source": [
    "n = int(input())\n",
    "x = float(input())"
   ]
  },
  {
   "cell_type": "markdown",
   "metadata": {},
   "source": [
    "### Enchaînement d'instructions "
   ]
  },
  {
   "cell_type": "code",
   "execution_count": 7,
   "metadata": {
    "collapsed": false
   },
   "outputs": [],
   "source": [
    "d=34567\n",
    "\n",
    "# d est une durée en seconde\n",
    "\n",
    "h = d // (3600)\n",
    "m = (d // 60) % 60\n",
    "s = d % 60\n",
    "\n",
    "# h, m et s contiennent le nombre d'heures,\n",
    "# de minutes et de secondes correspondant à d"
   ]
  },
  {
   "cell_type": "code",
   "execution_count": 8,
   "metadata": {
    "collapsed": false
   },
   "outputs": [
    {
     "name": "stdout",
     "output_type": "stream",
     "text": [
      "9 36 7\n"
     ]
    }
   ],
   "source": [
    "print(h,m,s)\n",
    "d = 0"
   ]
  },
  {
   "cell_type": "code",
   "execution_count": 10,
   "metadata": {
    "collapsed": false
   },
   "outputs": [],
   "source": [
    "# h, m et s contiennent un nombre d'heures, de minutes et de secondes\n",
    "\n",
    "d = h*3600\n",
    "d = d + m*60\n",
    "d = d + s\n",
    "\n",
    "# d contient la durée en secondes correspondant à h:m:s"
   ]
  },
  {
   "cell_type": "code",
   "execution_count": 11,
   "metadata": {
    "collapsed": false
   },
   "outputs": [
    {
     "name": "stdout",
     "output_type": "stream",
     "text": [
      "34567\n"
     ]
    }
   ],
   "source": [
    "print(d)"
   ]
  },
  {
   "cell_type": "markdown",
   "metadata": {},
   "source": [
    "### Condition\n",
    "```\n",
    "if {expression booléenne} :\n",
    "    {instructions indentées}\n",
    "else:\n",
    "    {instructions indentées}\n",
    "{instructions non indentées par rapport au *if*}\n",
    "```"
   ]
  },
  {
   "cell_type": "code",
   "execution_count": 12,
   "metadata": {
    "collapsed": false
   },
   "outputs": [
    {
     "name": "stdout",
     "output_type": "stream",
     "text": [
      "3.14\n"
     ]
    }
   ],
   "source": [
    "x = -3.14\n",
    "\n",
    "# x contient un flottant\n",
    "\n",
    "if x >= 0:\n",
    "    a = x\n",
    "else:\n",
    "    a = -x\n",
    "print(a)\n",
    "\n",
    "# affiche la valeur absolue de x"
   ]
  }
 ],
 "metadata": {
  "kernelspec": {
   "display_name": "Python 3",
   "language": "python",
   "name": "python3"
  },
  "language_info": {
   "codemirror_mode": {
    "name": "ipython",
    "version": 3
   },
   "file_extension": ".py",
   "mimetype": "text/x-python",
   "name": "python",
   "nbconvert_exporter": "python",
   "pygments_lexer": "ipython3",
   "version": "3.4.3"
  }
 },
 "nbformat": 4,
 "nbformat_minor": 0
}
