{
 "cells": [
  {
   "cell_type": "markdown",
   "metadata": {},
   "source": [
    "### Trace\n",
    "\n",
    "La trace d'exécution d'un algorithme est constituée\n",
    "en prenant une \"photo\" de toutes les variables de cet algorithme\n",
    "aux instants suivants :\n",
    "    \n",
    "* au début\n",
    "* à chaque `while`\n",
    "* à la fin\n",
    "\n",
    "La trace est un \"comptee-rendu\" de l'exécution de l'algorithme.\n",
    "\n",
    "Donnez la trace d'exécution de l'algorithme suivant pour les valeurs suivantes de n : 91, 100, 500."
   ]
  },
  {
   "cell_type": "code",
   "execution_count": 2,
   "metadata": {
    "collapsed": false
   },
   "outputs": [
    {
     "name": "stdout",
     "output_type": "stream",
     "text": [
      "9\n"
     ]
    }
   ],
   "source": [
    "\"\"\"\n",
    ":entrée n: entier\n",
    ":pré-cond n ≥ 0\n",
    ":sortie r: entier\n",
    ":post-cond: r est la partie entière de la racine de n\n",
    "\"\"\"\n",
    "## exemple d'entrées\n",
    "n = 91\n",
    "##\n",
    "\n",
    "\n",
    "r = 0\n",
    "while r*r <= n:\n",
    "    r = r+1\n",
    "r = r-1\n",
    "\n",
    "## pour voir la sortie\n",
    "print(r)\n",
    "##"
   ]
  },
  {
   "cell_type": "markdown",
   "metadata": {},
   "source": [
    "On peut facilement se convaincre que la longueur de la trace sera toujours égale à r+4. En effet :\n",
    "\n",
    "* la valeur finale de r correspond au nombre de fois où on est rentré dans la boucle, moins 1 (à cause de la ligne 18).\n",
    "* La taille de la trace est ici égale\n",
    "\n",
    "   * au nombre de fois où on est entré dans la boucle,\n",
    "   * plus 1 pour le passage à la ligne 13 qui *sort* de la boucle,\n",
    "   * plus 1 pour la photo de départ,\n",
    "   * plus 1 pour la photo à la fin,\n",
    "   \n",
    "  soit (nombre de passages dans la boucle) + 3, soit r + 4.\n",
    "\n",
    "Mais ce qui nous intéresse, c'est de prédire la taille de la trace en fonction des *paramètres d'entrées* (la \"taille\" du problème).\n",
    "\n",
    "En l'occurence, puisque r est la partie entière de √n, on peut affirmer que la longueur de la trace est partie_entière(√n)+4, qu'on peut simplifier en disant qu'elle est *proportionnelle à √n*.\n",
    "\n",
    "### Complexité\n",
    "\n",
    "On appelle **complexité** d'un algorithme la mesure de la longueur de ses traces d'exécution en fonction de ses paramètres d'entrée.\n",
    "\n",
    "Ce n'est pas la longueur exacte de la trace qui nous intéresse ici, mais son *ordre de grandeur* (comme dans l'exemple ci-dessus). C'est pourquoi on utilise la notation 𝓞(...) qui sert justement à représenter les ordres de grandeur.\n",
    "\n",
    "La longueur de la trace d'exécution est liée au temps que prendre cette exécution. Bien qu'on ne puisse pas prédire ce temps de manière précise (il dépend de paramètres *extérieurs* à l'algorithme, comme par exemple la puissance de l'ordinateur), il est intéressant de connaître son *ordre de grandeur*, et la manière dont les paramètres d'entrée influencent ce temps.\n",
    "\n",
    "L'algorithme ci-dessus calcule la partie entière de √n en un temps proportionnel à √n. On dira qu'il a « un temps d'exécution en 𝓞(√n) ».\n",
    "\n",
    "On peut faire mieux avec l'algorithme ci-dessous :"
   ]
  },
  {
   "cell_type": "code",
   "execution_count": 6,
   "metadata": {
    "collapsed": false
   },
   "outputs": [
    {
     "name": "stdout",
     "output_type": "stream",
     "text": [
      "9\n"
     ]
    }
   ],
   "source": [
    "## exemple d'entrées\n",
    "n = 91\n",
    "##\n",
    "\n",
    "min = 0\n",
    "max = n\n",
    "while max-min > 1:\n",
    "    moy = (max+min)//2\n",
    "    if moy*moy <= n:\n",
    "        min = moy\n",
    "    else:\n",
    "        max = moy\n",
    "r = min\n",
    "\n",
    "## pour voir la sortie\n",
    "print(r)\n",
    "##"
   ]
  },
  {
   "cell_type": "markdown",
   "metadata": {},
   "source": [
    "L'algorithme ci-dessus applique une recherche **dichotomique** :\n",
    "on utilise le fait que\n",
    "* la racine de n est forcément comprise entre 0 et n, et que\n",
    "* les racines de deux nombres sont dans le même ordre que ces nombres.\n",
    "\n",
    "On part donc de l'intervalle [0,n] et on le coupe en deux à chaque étape, jusqu'à réduire cet intervalle à une largeur de 1.\n",
    "\n",
    "Le nombre d'étape (et donc la longueur de la trace) est proportionnel au nombre de fois ou l'on peut diviser n par 2, c'est à dire le logarithme à base 2 de n : 𝓞(log₂(n)).\n",
    "\n",
    "On peut se convaincre, avec les courbe ci-dessous, que cet algorithme est bien plus efficace que le précédent."
   ]
  },
  {
   "cell_type": "code",
   "execution_count": 23,
   "metadata": {
    "collapsed": false
   },
   "outputs": [
    {
     "name": "stdout",
     "output_type": "stream",
     "text": [
      "Populating the interactive namespace from numpy and matplotlib\n"
     ]
    },
    {
     "data": {
      "text/plain": [
       "<matplotlib.legend.Legend at 0x7f9dbdd0fc18>"
      ]
     },
     "execution_count": 23,
     "metadata": {},
     "output_type": "execute_result"
    },
    {
     "data": {
      "image/png": "[encoded data removed]",
      "text/plain": [
       "<matplotlib.figure.Figure at 0x7f9dbefc4278>"
      ]
     },
     "metadata": {},
     "output_type": "display_data"
    }
   ],
   "source": [
    "%pylab inline\n",
    "xs = range(1,300)\n",
    "plot(xs, sqrt(xs), \"r-\", label=\" √n\")\n",
    "plot(xs, log2(xs), \"g-\", label=\"log2(n)\")\n",
    "legend(loc=\"lower right\")\n"
   ]
  },
  {
   "cell_type": "markdown",
   "metadata": {},
   "source": [
    "### Calcul de la racine carrée\n",
    "\n",
    "La recherche dichotomique de l'algorithme ci-dessus s'arrête lorsque l'intervalle a une largeur de 1. Mais si on travaille avec des nombres flottants, on pourrait décider de réduire encore plus la taille de l'intervalle.\n",
    "\n",
    "On définit donc un nouvel algorithme, prenant cette fois deux paramètres d'entrée :\n",
    "* *x*, le nombre flottant dont on veut calculer la racine carrée,\n",
    "* *erreur*, l'erreur maximale que l'on accepte d'avoir sur le résultat"
   ]
  },
  {
   "cell_type": "code",
   "execution_count": 27,
   "metadata": {
    "collapsed": false
   },
   "outputs": [
    {
     "name": "stdout",
     "output_type": "stream",
     "text": [
      "22.359848022460938\n",
      "499.9628035875503\n"
     ]
    }
   ],
   "source": [
    "\"\"\"\n",
    ":entrée x: flottant\n",
    ":entrée erreur: flottant\n",
    ":pré-cond x ≥ 0\n",
    ":sortie r: entier\n",
    ":post-cond: r est la racine de 'x' à 'erreur' près\n",
    "\"\"\"\n",
    "## exemple d'entrées\n",
    "x=500\n",
    "precision=0.001\n",
    "##\n",
    "\n",
    "# AUTRE SOLUTION #\n",
    "min = 0\n",
    "max = x\n",
    "while max-min > erreur:\n",
    "    moy = (max+min)/2\n",
    "    if moy*moy <= x:\n",
    "        min = moy\n",
    "    else:\n",
    "        max = moy\n",
    "r = min\n",
    "\n",
    "## pour voir la sortie\n",
    "print(r)\n",
    "# et la vérifier \n",
    "print(r*r)\n",
    "##"
   ]
  },
  {
   "cell_type": "markdown",
   "metadata": {},
   "source": [
    "L'algorithme ci-dessus a une complexité en 𝓞(log₂(n/precision), ce qui signifie que le temps d'exécution augmente lorsque *n* augmente, mais aussi lorsque *erreur* diminue. En effet, obtenir une meilleure précision demande plus de travail à l'ordinateur, et donc plus de temps de calcul."
   ]
  }
 ],
 "metadata": {
  "kernelspec": {
   "display_name": "Python 3",
   "language": "python",
   "name": "python3"
  },
  "language_info": {
   "codemirror_mode": {
    "name": "ipython",
    "version": 3
   },
   "file_extension": ".py",
   "mimetype": "text/x-python",
   "name": "python",
   "nbconvert_exporter": "python",
   "pygments_lexer": "ipython3",
   "version": "3.4.3"
  }
 },
 "nbformat": 4,
 "nbformat_minor": 0
}
