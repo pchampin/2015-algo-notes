{
 "cells": [
  {
   "cell_type": "markdown",
   "metadata": {},
   "source": [
    "On vous demande d'écrire la fonction suivante :"
   ]
  },
  {
   "cell_type": "code",
   "execution_count": 2,
   "metadata": {
    "collapsed": true
   },
   "outputs": [],
   "source": [
    "def score_scrabble(mot, langue):\n",
    "    \"\"\"\n",
    "    :entrée mot: str\n",
    "    :entrée langue: str\n",
    "    :pré-cond: len(mot) > 0 ; mot ne contient que des lettres minuscules\n",
    "               langue est un code standard de 2 lettres\n",
    "    :sortie: score\n",
    "    :post-cond: score est le score brut que rapporte le mot 'mot'\n",
    "                au scrabble dans la langue 'langue'\n",
    "    \"\"\""
   ]
  },
  {
   "cell_type": "markdown",
   "metadata": {},
   "source": [
    "mais on vous fourni pour cela une fonction qui résoud une partie du problème :"
   ]
  },
  {
   "cell_type": "code",
   "execution_count": 3,
   "metadata": {
    "collapsed": false
   },
   "outputs": [],
   "source": [
    "def score_scrabble_lettre(lettre, langue):\n",
    "    \"\"\"\n",
    "    :entrée lettre: str\n",
    "    :entrée langue: str\n",
    "    :pré-cond: len(lettre) == 1 ; lettre est une lettre minuscule\n",
    "               langue est un code standard de 2 lettres\n",
    "    :sortie score: int\n",
    "    :post-cond: score est le score de la lettre 'lettre'\n",
    "                au scrabble dans la langue 'langue'\n",
    "    \"\"\""
   ]
  },
  {
   "cell_type": "code",
   "execution_count": 4,
   "metadata": {
    "collapsed": true
   },
   "outputs": [],
   "source": [
    "from scrabble import score_scrabble_lettre"
   ]
  },
  {
   "cell_type": "code",
   "execution_count": 5,
   "metadata": {
    "collapsed": false
   },
   "outputs": [],
   "source": [
    "def score_scrabble(mot, langue):\n",
    "    \"\"\"\n",
    "    :entrée mot: str\n",
    "    :entrée langue: str\n",
    "    :pré-cond: len(mot) > 0 ; langue est un code standard de 2 lettres\n",
    "    :sortie: score\n",
    "    :post-cond: score est le score brut que rapporte le mot 'mot'\n",
    "                au scrabble dans la langue 'langue'\n",
    "    \"\"\"\n",
    "    score = 0\n",
    "    i = 0\n",
    "    while i < len(mot):\n",
    "        caractère = mot[i]\n",
    "        score_car = score_scrabble_lettre(caractère, langue)\n",
    "        score = score + score_car\n",
    "        i = i+1\n",
    "    return score"
   ]
  },
  {
   "cell_type": "code",
   "execution_count": 7,
   "metadata": {
    "collapsed": false
   },
   "outputs": [
    {
     "name": "stdout",
     "output_type": "stream",
     "text": [
      "Quel est votre mot ? wok\n",
      "21\n"
     ]
    }
   ],
   "source": [
    "# testons notre fonction\n",
    "mon_mot = input(\"Quel est votre mot ? \")\n",
    "print(score_scrabble(mon_mot, \"fr\"))"
   ]
  },
  {
   "cell_type": "code",
   "execution_count": null,
   "metadata": {
    "collapsed": false
   },
   "outputs": [],
   "source": [
    "# version plus concise\n",
    "\n",
    "def score_scrabble(mot, langue):\n",
    "    \"\"\"\n",
    "    :entrée mot: str\n",
    "    :entrée langue: str\n",
    "    :pré-cond: len(mot) > 0 ; langue est un code standard de 2 lettres\n",
    "    :sortie: score\n",
    "    :post-cond: score est le score brut que rapporte le mot 'mot'\n",
    "                au scrabble dans la langue 'langue'\n",
    "    \"\"\"\n",
    "    score = 0\n",
    "    i = 0\n",
    "    while i < len(mot):\n",
    "        score = score + score_scrabble_lettre(mot[i], langue)\n",
    "        i = i+1\n",
    "    return score"
   ]
  },
  {
   "cell_type": "markdown",
   "metadata": {},
   "source": [
    "### Complexité et appels de fonction\n",
    "\n",
    "On a défini la complexité comme une mesure de la longueur de la trace d'exécution.\n",
    "\n",
    "Mais lorsqu'une fonction en appelle une autre, il faut compter la longueur de la trace **totale**,\n",
    "incluant les traces d'exécution de tous les appels de fonctions fait par la fonction principale.\n",
    "\n",
    "L'algorithme ci-dessus effectue 𝓞(len(``txt``)) passages dans la boucle,\n",
    "et à chaque passage, appelle la fonction ``score_scrabble_lettre``.\n",
    "Il faut donc ajouter à la longueur de sa trace len(``txt``) fois la complexité de ``score_scrabble_lettre``.\n",
    "\n",
    "On nous informe que ``score_scrabble_lettre`` a une complexité constante : 𝓞(1),\n",
    "donc la complexité globale de ``score_scrabble`` est bien 𝓞(len(``txt``))."
   ]
  }
 ],
 "metadata": {
  "kernelspec": {
   "display_name": "Python 3",
   "language": "python",
   "name": "python3"
  },
  "language_info": {
   "codemirror_mode": {
    "name": "ipython",
    "version": 3
   },
   "file_extension": ".py",
   "mimetype": "text/x-python",
   "name": "python",
   "nbconvert_exporter": "python",
   "pygments_lexer": "ipython3",
   "version": "3.4.3"
  }
 },
 "nbformat": 4,
 "nbformat_minor": 0
}
